{
 "cells": [
  {
   "cell_type": "code",
   "execution_count": 1,
   "metadata": {},
   "outputs": [],
   "source": [
    "import pandas as pd\n",
    "import numpy as np"
   ]
  },
  {
   "cell_type": "code",
   "execution_count": 2,
   "metadata": {},
   "outputs": [
    {
     "output_type": "execute_result",
     "data": {
      "text/plain": "   Id        Name Type 1  Type 2                Abilities        Category  \\\n0   1   Bulbasaur  Grass  Poison  [Overgrow, Chlorophyll]    Seed Pokémon   \n1   2     Ivysaur  Grass  Poison  [Overgrow, Chlorophyll]    Seed Pokémon   \n2   3    Venusaur  Grass  Poison  [Overgrow, Chlorophyll]    Seed Pokémon   \n3   4  Charmander   Fire    None     [Blaze, Solar Power]  Lizard Pokémon   \n4   5  Charmeleon   Fire    None     [Blaze, Solar Power]   Flame Pokémon   \n\n  Height (ft)  Height (m)  Weight (lbs)  Weight (kg)  ...  Egg Steps  \\\n0       2'04\"         0.7          15.2          6.9  ...       5120   \n1       3'03\"         1.0          28.7         13.0  ...       5120   \n2       6'07\"         2.0         220.5        100.0  ...       5120   \n3       2'00\"         0.6          18.7          8.5  ...       5120   \n4       3'07\"         1.1          41.9         19.0  ...       5120   \n\n     Exp Group Total  HP  Attack  Defense  Sp. Attack  Sp. Defense  Speed  \\\n0  Medium Slow   318  45      49       49          65           65     45   \n1  Medium Slow   405  60      62       63          80           80     60   \n2  Medium Slow   525  80      82       83         100          100     80   \n3  Medium Slow   309  39      52       43          60           50     65   \n4  Medium Slow   405  58      64       58          80           65     80   \n\n                                               Moves  \n0  {'Tackle': {'Type': 'Normal', 'Level': '—', 'P...  \n1  {'Tackle': {'Type': 'Normal', 'Level': '—', 'P...  \n2  {'Petal Dance': {'Type': 'Grass', 'Level': 'Ev...  \n3  {'Scratch': {'Type': 'Normal', 'Level': '—', '...  \n4  {'Scratch': {'Type': 'Normal', 'Level': '—', '...  \n\n[5 rows x 21 columns]",
      "text/html": "<div>\n<style scoped>\n    .dataframe tbody tr th:only-of-type {\n        vertical-align: middle;\n    }\n\n    .dataframe tbody tr th {\n        vertical-align: top;\n    }\n\n    .dataframe thead th {\n        text-align: right;\n    }\n</style>\n<table border=\"1\" class=\"dataframe\">\n  <thead>\n    <tr style=\"text-align: right;\">\n      <th></th>\n      <th>Id</th>\n      <th>Name</th>\n      <th>Type 1</th>\n      <th>Type 2</th>\n      <th>Abilities</th>\n      <th>Category</th>\n      <th>Height (ft)</th>\n      <th>Height (m)</th>\n      <th>Weight (lbs)</th>\n      <th>Weight (kg)</th>\n      <th>...</th>\n      <th>Egg Steps</th>\n      <th>Exp Group</th>\n      <th>Total</th>\n      <th>HP</th>\n      <th>Attack</th>\n      <th>Defense</th>\n      <th>Sp. Attack</th>\n      <th>Sp. Defense</th>\n      <th>Speed</th>\n      <th>Moves</th>\n    </tr>\n  </thead>\n  <tbody>\n    <tr>\n      <td>0</td>\n      <td>1</td>\n      <td>Bulbasaur</td>\n      <td>Grass</td>\n      <td>Poison</td>\n      <td>[Overgrow, Chlorophyll]</td>\n      <td>Seed Pokémon</td>\n      <td>2'04\"</td>\n      <td>0.7</td>\n      <td>15.2</td>\n      <td>6.9</td>\n      <td>...</td>\n      <td>5120</td>\n      <td>Medium Slow</td>\n      <td>318</td>\n      <td>45</td>\n      <td>49</td>\n      <td>49</td>\n      <td>65</td>\n      <td>65</td>\n      <td>45</td>\n      <td>{'Tackle': {'Type': 'Normal', 'Level': '—', 'P...</td>\n    </tr>\n    <tr>\n      <td>1</td>\n      <td>2</td>\n      <td>Ivysaur</td>\n      <td>Grass</td>\n      <td>Poison</td>\n      <td>[Overgrow, Chlorophyll]</td>\n      <td>Seed Pokémon</td>\n      <td>3'03\"</td>\n      <td>1.0</td>\n      <td>28.7</td>\n      <td>13.0</td>\n      <td>...</td>\n      <td>5120</td>\n      <td>Medium Slow</td>\n      <td>405</td>\n      <td>60</td>\n      <td>62</td>\n      <td>63</td>\n      <td>80</td>\n      <td>80</td>\n      <td>60</td>\n      <td>{'Tackle': {'Type': 'Normal', 'Level': '—', 'P...</td>\n    </tr>\n    <tr>\n      <td>2</td>\n      <td>3</td>\n      <td>Venusaur</td>\n      <td>Grass</td>\n      <td>Poison</td>\n      <td>[Overgrow, Chlorophyll]</td>\n      <td>Seed Pokémon</td>\n      <td>6'07\"</td>\n      <td>2.0</td>\n      <td>220.5</td>\n      <td>100.0</td>\n      <td>...</td>\n      <td>5120</td>\n      <td>Medium Slow</td>\n      <td>525</td>\n      <td>80</td>\n      <td>82</td>\n      <td>83</td>\n      <td>100</td>\n      <td>100</td>\n      <td>80</td>\n      <td>{'Petal Dance': {'Type': 'Grass', 'Level': 'Ev...</td>\n    </tr>\n    <tr>\n      <td>3</td>\n      <td>4</td>\n      <td>Charmander</td>\n      <td>Fire</td>\n      <td>None</td>\n      <td>[Blaze, Solar Power]</td>\n      <td>Lizard Pokémon</td>\n      <td>2'00\"</td>\n      <td>0.6</td>\n      <td>18.7</td>\n      <td>8.5</td>\n      <td>...</td>\n      <td>5120</td>\n      <td>Medium Slow</td>\n      <td>309</td>\n      <td>39</td>\n      <td>52</td>\n      <td>43</td>\n      <td>60</td>\n      <td>50</td>\n      <td>65</td>\n      <td>{'Scratch': {'Type': 'Normal', 'Level': '—', '...</td>\n    </tr>\n    <tr>\n      <td>4</td>\n      <td>5</td>\n      <td>Charmeleon</td>\n      <td>Fire</td>\n      <td>None</td>\n      <td>[Blaze, Solar Power]</td>\n      <td>Flame Pokémon</td>\n      <td>3'07\"</td>\n      <td>1.1</td>\n      <td>41.9</td>\n      <td>19.0</td>\n      <td>...</td>\n      <td>5120</td>\n      <td>Medium Slow</td>\n      <td>405</td>\n      <td>58</td>\n      <td>64</td>\n      <td>58</td>\n      <td>80</td>\n      <td>65</td>\n      <td>80</td>\n      <td>{'Scratch': {'Type': 'Normal', 'Level': '—', '...</td>\n    </tr>\n  </tbody>\n</table>\n<p>5 rows × 21 columns</p>\n</div>"
     },
     "metadata": {},
     "execution_count": 2
    }
   ],
   "source": [
    "df_json = pd.read_json(\"../pokemon_first.json\")\n",
    "df_json.head()"
   ]
  },
  {
   "cell_type": "code",
   "execution_count": 3,
   "metadata": {},
   "outputs": [
    {
     "output_type": "execute_result",
     "data": {
      "text/plain": "    X.             Name   Type.1    Type.2  Total   HP  Attack  Defense  \\\n0  384    Mega Rayquaza   Dragon    Flying    780  105     180      100   \n1   94      Mega Gengar    Ghost    Poison    600   60      65       80   \n2  115  Mega Kangaskhan   Normal       NaN    590  105     125      100   \n3  150           Mewtwo  Psychic       NaN    680  106     110       90   \n4  150    Mega Mewtwo X  Psychic  Fighting    780  106     190      100   \n\n   Sp..Atk  Sp..Def  Speed  Generation  Legendary   Mega  Tier  \n0      180      100    115           3       True   True    AG  \n1      170       95    130           1      False   True  Uber  \n2       60      100    100           1      False   True  Uber  \n3      154       90    130           1       True  False  Uber  \n4      154      100    130           1       True   True  Uber  ",
      "text/html": "<div>\n<style scoped>\n    .dataframe tbody tr th:only-of-type {\n        vertical-align: middle;\n    }\n\n    .dataframe tbody tr th {\n        vertical-align: top;\n    }\n\n    .dataframe thead th {\n        text-align: right;\n    }\n</style>\n<table border=\"1\" class=\"dataframe\">\n  <thead>\n    <tr style=\"text-align: right;\">\n      <th></th>\n      <th>X.</th>\n      <th>Name</th>\n      <th>Type.1</th>\n      <th>Type.2</th>\n      <th>Total</th>\n      <th>HP</th>\n      <th>Attack</th>\n      <th>Defense</th>\n      <th>Sp..Atk</th>\n      <th>Sp..Def</th>\n      <th>Speed</th>\n      <th>Generation</th>\n      <th>Legendary</th>\n      <th>Mega</th>\n      <th>Tier</th>\n    </tr>\n  </thead>\n  <tbody>\n    <tr>\n      <td>0</td>\n      <td>384</td>\n      <td>Mega Rayquaza</td>\n      <td>Dragon</td>\n      <td>Flying</td>\n      <td>780</td>\n      <td>105</td>\n      <td>180</td>\n      <td>100</td>\n      <td>180</td>\n      <td>100</td>\n      <td>115</td>\n      <td>3</td>\n      <td>True</td>\n      <td>True</td>\n      <td>AG</td>\n    </tr>\n    <tr>\n      <td>1</td>\n      <td>94</td>\n      <td>Mega Gengar</td>\n      <td>Ghost</td>\n      <td>Poison</td>\n      <td>600</td>\n      <td>60</td>\n      <td>65</td>\n      <td>80</td>\n      <td>170</td>\n      <td>95</td>\n      <td>130</td>\n      <td>1</td>\n      <td>False</td>\n      <td>True</td>\n      <td>Uber</td>\n    </tr>\n    <tr>\n      <td>2</td>\n      <td>115</td>\n      <td>Mega Kangaskhan</td>\n      <td>Normal</td>\n      <td>NaN</td>\n      <td>590</td>\n      <td>105</td>\n      <td>125</td>\n      <td>100</td>\n      <td>60</td>\n      <td>100</td>\n      <td>100</td>\n      <td>1</td>\n      <td>False</td>\n      <td>True</td>\n      <td>Uber</td>\n    </tr>\n    <tr>\n      <td>3</td>\n      <td>150</td>\n      <td>Mewtwo</td>\n      <td>Psychic</td>\n      <td>NaN</td>\n      <td>680</td>\n      <td>106</td>\n      <td>110</td>\n      <td>90</td>\n      <td>154</td>\n      <td>90</td>\n      <td>130</td>\n      <td>1</td>\n      <td>True</td>\n      <td>False</td>\n      <td>Uber</td>\n    </tr>\n    <tr>\n      <td>4</td>\n      <td>150</td>\n      <td>Mega Mewtwo X</td>\n      <td>Psychic</td>\n      <td>Fighting</td>\n      <td>780</td>\n      <td>106</td>\n      <td>190</td>\n      <td>100</td>\n      <td>154</td>\n      <td>100</td>\n      <td>130</td>\n      <td>1</td>\n      <td>True</td>\n      <td>True</td>\n      <td>Uber</td>\n    </tr>\n  </tbody>\n</table>\n</div>"
     },
     "metadata": {},
     "execution_count": 3
    }
   ],
   "source": [
    "df_csv = pd.read_csv(\"../pokemon_second.csv\")\n",
    "df_csv.head()"
   ]
  },
  {
   "cell_type": "code",
   "execution_count": 4,
   "metadata": {},
   "outputs": [
    {
     "output_type": "execute_result",
     "data": {
      "text/plain": "              Name  Generation  Legendary  Tier\n0    Mega Rayquaza           3       True    AG\n1      Mega Gengar           1      False  Uber\n2  Mega Kangaskhan           1      False  Uber\n3           Mewtwo           1       True  Uber\n4    Mega Mewtwo X           1       True  Uber",
      "text/html": "<div>\n<style scoped>\n    .dataframe tbody tr th:only-of-type {\n        vertical-align: middle;\n    }\n\n    .dataframe tbody tr th {\n        vertical-align: top;\n    }\n\n    .dataframe thead th {\n        text-align: right;\n    }\n</style>\n<table border=\"1\" class=\"dataframe\">\n  <thead>\n    <tr style=\"text-align: right;\">\n      <th></th>\n      <th>Name</th>\n      <th>Generation</th>\n      <th>Legendary</th>\n      <th>Tier</th>\n    </tr>\n  </thead>\n  <tbody>\n    <tr>\n      <td>0</td>\n      <td>Mega Rayquaza</td>\n      <td>3</td>\n      <td>True</td>\n      <td>AG</td>\n    </tr>\n    <tr>\n      <td>1</td>\n      <td>Mega Gengar</td>\n      <td>1</td>\n      <td>False</td>\n      <td>Uber</td>\n    </tr>\n    <tr>\n      <td>2</td>\n      <td>Mega Kangaskhan</td>\n      <td>1</td>\n      <td>False</td>\n      <td>Uber</td>\n    </tr>\n    <tr>\n      <td>3</td>\n      <td>Mewtwo</td>\n      <td>1</td>\n      <td>True</td>\n      <td>Uber</td>\n    </tr>\n    <tr>\n      <td>4</td>\n      <td>Mega Mewtwo X</td>\n      <td>1</td>\n      <td>True</td>\n      <td>Uber</td>\n    </tr>\n  </tbody>\n</table>\n</div>"
     },
     "metadata": {},
     "execution_count": 4
    }
   ],
   "source": [
    "df_csv = df_csv[[\"Name\", \"Generation\", \"Legendary\", \"Tier\"]]\n",
    "df_csv.head()"
   ]
  },
  {
   "cell_type": "code",
   "execution_count": 5,
   "metadata": {},
   "outputs": [
    {
     "output_type": "execute_result",
     "data": {
      "text/plain": "   Id        Name Type 1  Type 2                    Abilities  \\\n0   3    Venusaur  Grass  Poison      [Overgrow, Chlorophyll]   \n1   6   Charizard   Fire  Flying         [Blaze, Solar Power]   \n2   8   Wartortle  Water    None         [Torrent, Rain Dish]   \n3   9   Blastoise  Water    None         [Torrent, Rain Dish]   \n4  12  Butterfree    Bug  Flying  [Compoundeyes, Tinted Lens]   \n\n            Category Height (ft)  Height (m)  Weight (lbs)  Weight (kg)  ...  \\\n0       Seed Pokémon       6'07\"         2.0         220.5        100.0  ...   \n1      Flame Pokémon       5'07\"         1.7         199.5         90.5  ...   \n2     Turtle Pokémon       3'03\"         1.0          49.6         22.5  ...   \n3  Shellfish Pokémon       5'03\"         1.6         188.5         85.5  ...   \n4  Butterfly Pokémon       3'07\"         1.1          70.5         32.0  ...   \n\n   HP  Attack Defense  Sp. Attack  Sp. Defense  Speed  \\\n0  80      82      83         100          100     80   \n1  78      84      78         109           85    100   \n2  59      63      80          65           80     58   \n3  79      83     100          85          105     78   \n4  60      45      50          90           80     70   \n\n                                               Moves  Generation  Legendary  \\\n0  {'Petal Dance': {'Type': 'Grass', 'Level': 'Ev...           1      False   \n1  {'Wing Attack': {'Type': 'Flying', 'Level': 'E...           1      False   \n2  {'Tackle': {'Type': 'Normal', 'Level': '—', 'P...           1      False   \n3  {'Flash Cannon': {'Type': 'Steel', 'Level': '—...           1      False   \n4  {'Gust': {'Type': 'Flying', 'Level': 'Evolve',...           1      False   \n\n   Tier  \n0    RU  \n1    NU  \n2    PU  \n3    RU  \n4    PU  \n\n[5 rows x 24 columns]",
      "text/html": "<div>\n<style scoped>\n    .dataframe tbody tr th:only-of-type {\n        vertical-align: middle;\n    }\n\n    .dataframe tbody tr th {\n        vertical-align: top;\n    }\n\n    .dataframe thead th {\n        text-align: right;\n    }\n</style>\n<table border=\"1\" class=\"dataframe\">\n  <thead>\n    <tr style=\"text-align: right;\">\n      <th></th>\n      <th>Id</th>\n      <th>Name</th>\n      <th>Type 1</th>\n      <th>Type 2</th>\n      <th>Abilities</th>\n      <th>Category</th>\n      <th>Height (ft)</th>\n      <th>Height (m)</th>\n      <th>Weight (lbs)</th>\n      <th>Weight (kg)</th>\n      <th>...</th>\n      <th>HP</th>\n      <th>Attack</th>\n      <th>Defense</th>\n      <th>Sp. Attack</th>\n      <th>Sp. Defense</th>\n      <th>Speed</th>\n      <th>Moves</th>\n      <th>Generation</th>\n      <th>Legendary</th>\n      <th>Tier</th>\n    </tr>\n  </thead>\n  <tbody>\n    <tr>\n      <td>0</td>\n      <td>3</td>\n      <td>Venusaur</td>\n      <td>Grass</td>\n      <td>Poison</td>\n      <td>[Overgrow, Chlorophyll]</td>\n      <td>Seed Pokémon</td>\n      <td>6'07\"</td>\n      <td>2.0</td>\n      <td>220.5</td>\n      <td>100.0</td>\n      <td>...</td>\n      <td>80</td>\n      <td>82</td>\n      <td>83</td>\n      <td>100</td>\n      <td>100</td>\n      <td>80</td>\n      <td>{'Petal Dance': {'Type': 'Grass', 'Level': 'Ev...</td>\n      <td>1</td>\n      <td>False</td>\n      <td>RU</td>\n    </tr>\n    <tr>\n      <td>1</td>\n      <td>6</td>\n      <td>Charizard</td>\n      <td>Fire</td>\n      <td>Flying</td>\n      <td>[Blaze, Solar Power]</td>\n      <td>Flame Pokémon</td>\n      <td>5'07\"</td>\n      <td>1.7</td>\n      <td>199.5</td>\n      <td>90.5</td>\n      <td>...</td>\n      <td>78</td>\n      <td>84</td>\n      <td>78</td>\n      <td>109</td>\n      <td>85</td>\n      <td>100</td>\n      <td>{'Wing Attack': {'Type': 'Flying', 'Level': 'E...</td>\n      <td>1</td>\n      <td>False</td>\n      <td>NU</td>\n    </tr>\n    <tr>\n      <td>2</td>\n      <td>8</td>\n      <td>Wartortle</td>\n      <td>Water</td>\n      <td>None</td>\n      <td>[Torrent, Rain Dish]</td>\n      <td>Turtle Pokémon</td>\n      <td>3'03\"</td>\n      <td>1.0</td>\n      <td>49.6</td>\n      <td>22.5</td>\n      <td>...</td>\n      <td>59</td>\n      <td>63</td>\n      <td>80</td>\n      <td>65</td>\n      <td>80</td>\n      <td>58</td>\n      <td>{'Tackle': {'Type': 'Normal', 'Level': '—', 'P...</td>\n      <td>1</td>\n      <td>False</td>\n      <td>PU</td>\n    </tr>\n    <tr>\n      <td>3</td>\n      <td>9</td>\n      <td>Blastoise</td>\n      <td>Water</td>\n      <td>None</td>\n      <td>[Torrent, Rain Dish]</td>\n      <td>Shellfish Pokémon</td>\n      <td>5'03\"</td>\n      <td>1.6</td>\n      <td>188.5</td>\n      <td>85.5</td>\n      <td>...</td>\n      <td>79</td>\n      <td>83</td>\n      <td>100</td>\n      <td>85</td>\n      <td>105</td>\n      <td>78</td>\n      <td>{'Flash Cannon': {'Type': 'Steel', 'Level': '—...</td>\n      <td>1</td>\n      <td>False</td>\n      <td>RU</td>\n    </tr>\n    <tr>\n      <td>4</td>\n      <td>12</td>\n      <td>Butterfree</td>\n      <td>Bug</td>\n      <td>Flying</td>\n      <td>[Compoundeyes, Tinted Lens]</td>\n      <td>Butterfly Pokémon</td>\n      <td>3'07\"</td>\n      <td>1.1</td>\n      <td>70.5</td>\n      <td>32.0</td>\n      <td>...</td>\n      <td>60</td>\n      <td>45</td>\n      <td>50</td>\n      <td>90</td>\n      <td>80</td>\n      <td>70</td>\n      <td>{'Gust': {'Type': 'Flying', 'Level': 'Evolve',...</td>\n      <td>1</td>\n      <td>False</td>\n      <td>PU</td>\n    </tr>\n  </tbody>\n</table>\n<p>5 rows × 24 columns</p>\n</div>"
     },
     "metadata": {},
     "execution_count": 5
    }
   ],
   "source": [
    "pokemon_df = pd.merge(df_json, df_csv, on=\"Name\", how=\"inner\")\n",
    "pokemon_df.head()"
   ]
  },
  {
   "cell_type": "code",
   "execution_count": 6,
   "metadata": {},
   "outputs": [],
   "source": [
    "pokemon_df.drop(columns=[\"Category\", \"Height (ft)\", \"Height (m)\", \"Weight (lbs)\", \"Weight (kg)\", \"Capture Rate\", \"Egg Steps\", \"Exp Group\"], inplace=True)"
   ]
  },
  {
   "cell_type": "code",
   "execution_count": 7,
   "metadata": {},
   "outputs": [],
   "source": [
    "full_type = []\n",
    "for row in range(0, len(pokemon_df)):\n",
    "    if pokemon_df.iloc[row, 3] == \"None\":\n",
    "        full_type.append(pokemon_df.iloc[row, 2])\n",
    "    else:\n",
    "        full_type.append(pokemon_df.iloc[row, 2] + \"/\" + pokemon_df.iloc[row, 3])"
   ]
  },
  {
   "cell_type": "code",
   "execution_count": 8,
   "metadata": {},
   "outputs": [],
   "source": [
    "pokemon_df[\"Full Type\"] = full_type"
   ]
  },
  {
   "cell_type": "code",
   "execution_count": 9,
   "metadata": {},
   "outputs": [],
   "source": [
    "pokemon_df = pokemon_df.rename(columns={\"Sp. Attack\":\"Sp_Attack\",\"Sp. Defense\":\"Sp_Defense\"})"
   ]
  },
  {
   "cell_type": "code",
   "execution_count": 10,
   "metadata": {},
   "outputs": [
    {
     "output_type": "execute_result",
     "data": {
      "text/plain": "              Avg Total  Avg HP  Avg Attack  Avg Defense  Avg Sp Attack  \\\nFull Type                                                                 \nBug               447.8    70.4        80.0         68.2           66.0   \nBug/Electric      472.0    70.0        77.0         60.0           97.0   \nBug/Fighting      500.0    80.0       125.0         75.0           40.0   \nBug/Fire          550.0    85.0        60.0         65.0          135.0   \nBug/Flying        441.4    68.2        71.2         62.5           83.0   \n\n              Avg Sp Defense  Avg Speed  \nFull Type                                \nBug                     70.2       93.0  \nBug/Electric            60.0      108.0  \nBug/Fighting            95.0       85.0  \nBug/Fire               105.0      100.0  \nBug/Flying              71.0       85.5  ",
      "text/html": "<div>\n<style scoped>\n    .dataframe tbody tr th:only-of-type {\n        vertical-align: middle;\n    }\n\n    .dataframe tbody tr th {\n        vertical-align: top;\n    }\n\n    .dataframe thead th {\n        text-align: right;\n    }\n</style>\n<table border=\"1\" class=\"dataframe\">\n  <thead>\n    <tr style=\"text-align: right;\">\n      <th></th>\n      <th>Avg Total</th>\n      <th>Avg HP</th>\n      <th>Avg Attack</th>\n      <th>Avg Defense</th>\n      <th>Avg Sp Attack</th>\n      <th>Avg Sp Defense</th>\n      <th>Avg Speed</th>\n    </tr>\n    <tr>\n      <th>Full Type</th>\n      <th></th>\n      <th></th>\n      <th></th>\n      <th></th>\n      <th></th>\n      <th></th>\n      <th></th>\n    </tr>\n  </thead>\n  <tbody>\n    <tr>\n      <td>Bug</td>\n      <td>447.8</td>\n      <td>70.4</td>\n      <td>80.0</td>\n      <td>68.2</td>\n      <td>66.0</td>\n      <td>70.2</td>\n      <td>93.0</td>\n    </tr>\n    <tr>\n      <td>Bug/Electric</td>\n      <td>472.0</td>\n      <td>70.0</td>\n      <td>77.0</td>\n      <td>60.0</td>\n      <td>97.0</td>\n      <td>60.0</td>\n      <td>108.0</td>\n    </tr>\n    <tr>\n      <td>Bug/Fighting</td>\n      <td>500.0</td>\n      <td>80.0</td>\n      <td>125.0</td>\n      <td>75.0</td>\n      <td>40.0</td>\n      <td>95.0</td>\n      <td>85.0</td>\n    </tr>\n    <tr>\n      <td>Bug/Fire</td>\n      <td>550.0</td>\n      <td>85.0</td>\n      <td>60.0</td>\n      <td>65.0</td>\n      <td>135.0</td>\n      <td>105.0</td>\n      <td>100.0</td>\n    </tr>\n    <tr>\n      <td>Bug/Flying</td>\n      <td>441.4</td>\n      <td>68.2</td>\n      <td>71.2</td>\n      <td>62.5</td>\n      <td>83.0</td>\n      <td>71.0</td>\n      <td>85.5</td>\n    </tr>\n  </tbody>\n</table>\n</div>"
     },
     "metadata": {},
     "execution_count": 10
    }
   ],
   "source": [
    "temp_df = pokemon_df.groupby(\"Full Type\")\n",
    "\n",
    "avg_total = round(temp_df[\"Total\"].mean(), 1)\n",
    "avg_hp = round(temp_df[\"HP\"].mean(), 1)\n",
    "avg_atk = round(temp_df[\"Attack\"].mean(), 1)\n",
    "avg_def = round(temp_df[\"Defense\"].mean(), 1)\n",
    "avg_spa = round(temp_df[\"Sp_Attack\"].mean(), 1)\n",
    "avg_spd = round(temp_df[\"Sp_Defense\"].mean(), 1)\n",
    "avg_spe  = round(temp_df[\"Speed\"].mean(), 1)\n",
    "\n",
    "# ou_list = []\n",
    "# for tier in temp_df[\"Tier\"]:\n",
    "#     if tier == \"PU\":\n",
    "#         ou_list.append(tier)        \n",
    "# ou_count = len(ou_list)\n",
    "\n",
    "# ou_count = temp_df.loc[temp_df[\"Tier\"] == \"OU\"].count()\n",
    "# # ou_count = pokemon_df.groupby('Tier')['OU'].count()\n",
    "# ou_count = pokemon_df.groupby(['OU', 'Tier']).size().unstack(fill_value=0)\n",
    "\n",
    "type_df = pd.DataFrame({\n",
    "    \"Avg Total\" : avg_total,\n",
    "    \"Avg HP\" : avg_hp,\n",
    "    \"Avg Attack\" : avg_atk,\n",
    "    \"Avg Defense\" : avg_def,\n",
    "    \"Avg Sp Attack\" : avg_spa,\n",
    "    \"Avg Sp Defense\" : avg_spd,\n",
    "    \"Avg Speed\" : avg_spe\n",
    "})\n",
    "\n",
    "type_df.head()"
   ]
  },
  {
   "cell_type": "code",
   "execution_count": 11,
   "metadata": {},
   "outputs": [
    {
     "output_type": "execute_result",
     "data": {
      "text/plain": "      Avg Total  Avg HP  Avg Attack  Avg Defense  Avg Sp Attack  \\\nTier                                                              \nBL        533.5    84.3        90.2         82.5           89.3   \nBL2       510.8    76.8        92.2         89.6           88.7   \nBL3       530.0    70.0        85.0         65.0          105.0   \nBL4       466.5    90.4        89.1         83.0           75.0   \nNU        484.4    79.0        89.5         86.3           76.6   \nOU        533.5    88.4        95.2         90.1           89.3   \nPU        452.2    74.2        80.7         76.1           74.2   \nRU        497.6    77.9        90.9         83.3           79.9   \nUU        524.6    89.1        93.6         86.2           87.6   \nUber      642.0    96.0       117.1        101.1          124.0   \n\n      Avg Sp Defense  Avg Speed Most Common Type  Most Common Gen  \nTier                                                               \nBL              86.3      101.0     Psychic/Fire                5  \nBL2             81.9       81.6       Dragon/Ice                6  \nBL3             85.0      120.0            Grass                3  \nBL4             70.8       58.2           Normal                5  \nNU              78.1       74.9           Normal                1  \nOU              86.5       84.0    Water/Psychic                4  \nPU              76.8       70.2           Normal                3  \nRU              90.1       75.4         Fighting                5  \nUU              88.0       79.9            Water                5  \nUber           102.3      101.5          Psychic                4  ",
      "text/html": "<div>\n<style scoped>\n    .dataframe tbody tr th:only-of-type {\n        vertical-align: middle;\n    }\n\n    .dataframe tbody tr th {\n        vertical-align: top;\n    }\n\n    .dataframe thead th {\n        text-align: right;\n    }\n</style>\n<table border=\"1\" class=\"dataframe\">\n  <thead>\n    <tr style=\"text-align: right;\">\n      <th></th>\n      <th>Avg Total</th>\n      <th>Avg HP</th>\n      <th>Avg Attack</th>\n      <th>Avg Defense</th>\n      <th>Avg Sp Attack</th>\n      <th>Avg Sp Defense</th>\n      <th>Avg Speed</th>\n      <th>Most Common Type</th>\n      <th>Most Common Gen</th>\n    </tr>\n    <tr>\n      <th>Tier</th>\n      <th></th>\n      <th></th>\n      <th></th>\n      <th></th>\n      <th></th>\n      <th></th>\n      <th></th>\n      <th></th>\n      <th></th>\n    </tr>\n  </thead>\n  <tbody>\n    <tr>\n      <td>BL</td>\n      <td>533.5</td>\n      <td>84.3</td>\n      <td>90.2</td>\n      <td>82.5</td>\n      <td>89.3</td>\n      <td>86.3</td>\n      <td>101.0</td>\n      <td>Psychic/Fire</td>\n      <td>5</td>\n    </tr>\n    <tr>\n      <td>BL2</td>\n      <td>510.8</td>\n      <td>76.8</td>\n      <td>92.2</td>\n      <td>89.6</td>\n      <td>88.7</td>\n      <td>81.9</td>\n      <td>81.6</td>\n      <td>Dragon/Ice</td>\n      <td>6</td>\n    </tr>\n    <tr>\n      <td>BL3</td>\n      <td>530.0</td>\n      <td>70.0</td>\n      <td>85.0</td>\n      <td>65.0</td>\n      <td>105.0</td>\n      <td>85.0</td>\n      <td>120.0</td>\n      <td>Grass</td>\n      <td>3</td>\n    </tr>\n    <tr>\n      <td>BL4</td>\n      <td>466.5</td>\n      <td>90.4</td>\n      <td>89.1</td>\n      <td>83.0</td>\n      <td>75.0</td>\n      <td>70.8</td>\n      <td>58.2</td>\n      <td>Normal</td>\n      <td>5</td>\n    </tr>\n    <tr>\n      <td>NU</td>\n      <td>484.4</td>\n      <td>79.0</td>\n      <td>89.5</td>\n      <td>86.3</td>\n      <td>76.6</td>\n      <td>78.1</td>\n      <td>74.9</td>\n      <td>Normal</td>\n      <td>1</td>\n    </tr>\n    <tr>\n      <td>OU</td>\n      <td>533.5</td>\n      <td>88.4</td>\n      <td>95.2</td>\n      <td>90.1</td>\n      <td>89.3</td>\n      <td>86.5</td>\n      <td>84.0</td>\n      <td>Water/Psychic</td>\n      <td>4</td>\n    </tr>\n    <tr>\n      <td>PU</td>\n      <td>452.2</td>\n      <td>74.2</td>\n      <td>80.7</td>\n      <td>76.1</td>\n      <td>74.2</td>\n      <td>76.8</td>\n      <td>70.2</td>\n      <td>Normal</td>\n      <td>3</td>\n    </tr>\n    <tr>\n      <td>RU</td>\n      <td>497.6</td>\n      <td>77.9</td>\n      <td>90.9</td>\n      <td>83.3</td>\n      <td>79.9</td>\n      <td>90.1</td>\n      <td>75.4</td>\n      <td>Fighting</td>\n      <td>5</td>\n    </tr>\n    <tr>\n      <td>UU</td>\n      <td>524.6</td>\n      <td>89.1</td>\n      <td>93.6</td>\n      <td>86.2</td>\n      <td>87.6</td>\n      <td>88.0</td>\n      <td>79.9</td>\n      <td>Water</td>\n      <td>5</td>\n    </tr>\n    <tr>\n      <td>Uber</td>\n      <td>642.0</td>\n      <td>96.0</td>\n      <td>117.1</td>\n      <td>101.1</td>\n      <td>124.0</td>\n      <td>102.3</td>\n      <td>101.5</td>\n      <td>Psychic</td>\n      <td>4</td>\n    </tr>\n  </tbody>\n</table>\n</div>"
     },
     "metadata": {},
     "execution_count": 11
    }
   ],
   "source": [
    "temp_df = pokemon_df.groupby(\"Tier\")\n",
    "\n",
    "avg_total = round(temp_df[\"Total\"].mean(), 1)\n",
    "avg_hp = round(temp_df[\"HP\"].mean(), 1)\n",
    "avg_atk = round(temp_df[\"Attack\"].mean(), 1)\n",
    "avg_def = round(temp_df[\"Defense\"].mean(), 1)\n",
    "avg_spa = round(temp_df[\"Sp_Attack\"].mean(), 1)\n",
    "avg_spd = round(temp_df[\"Sp_Defense\"].mean(), 1)\n",
    "avg_spe  = round(temp_df[\"Speed\"].mean(), 1)\n",
    "\n",
    "mode_type = temp_df[\"Full Type\"].agg(lambda x:x.value_counts().index[0])\n",
    "mode_gen = temp_df[\"Generation\"].agg(lambda x:x.value_counts().index[0])\n",
    "\n",
    "tier_df = pd.DataFrame({\n",
    "    \"Avg Total\" : avg_total,\n",
    "    \"Avg HP\" : avg_hp,\n",
    "    \"Avg Attack\" : avg_atk,\n",
    "    \"Avg Defense\" : avg_def,\n",
    "    \"Avg Sp Attack\" : avg_spa,\n",
    "    \"Avg Sp Defense\" : avg_spd,\n",
    "    \"Avg Speed\" : avg_spe,\n",
    "    \"Most Common Type\" : mode_type,\n",
    "    \"Most Common Gen\" : mode_gen\n",
    "})\n",
    "\n",
    "tier_df"
   ]
  },
  {
   "cell_type": "code",
   "execution_count": 12,
   "metadata": {},
   "outputs": [],
   "source": [
    "import pymongo"
   ]
  },
  {
   "cell_type": "code",
   "execution_count": 13,
   "metadata": {},
   "outputs": [],
   "source": [
    "conn = 'mongodb://localhost:27017'"
   ]
  },
  {
   "cell_type": "code",
   "execution_count": 14,
   "metadata": {},
   "outputs": [],
   "source": [
    "client = pymongo.MongoClient(conn)"
   ]
  },
  {
   "cell_type": "code",
   "execution_count": 15,
   "metadata": {},
   "outputs": [],
   "source": [
    "db = client.pokemon_db"
   ]
  },
  {
   "cell_type": "code",
   "execution_count": 16,
   "metadata": {},
   "outputs": [],
   "source": [
    "collection = db.pokemons"
   ]
  },
  {
   "cell_type": "code",
   "execution_count": 17,
   "metadata": {},
   "outputs": [
    {
     "output_type": "execute_result",
     "data": {
      "text/plain": "Index(['Id', 'Name', 'Type 1', 'Type 2', 'Abilities', 'Total', 'HP', 'Attack',\n       'Defense', 'Sp_Attack', 'Sp_Defense', 'Speed', 'Moves', 'Generation',\n       'Legendary', 'Tier', 'Full Type'],\n      dtype='object')"
     },
     "metadata": {},
     "execution_count": 17
    }
   ],
   "source": [
    "pokemon_df.columns"
   ]
  },
  {
   "cell_type": "code",
   "execution_count": 18,
   "metadata": {},
   "outputs": [
    {
     "output_type": "execute_result",
     "data": {
      "text/plain": "<pymongo.results.InsertManyResult at 0x23b8313b948>"
     },
     "metadata": {},
     "execution_count": 18
    }
   ],
   "source": [
    "# Dictionary to be inserted into MongoDB\n",
    "data = pokemon_df.to_dict(orient='records')  # Here's our added param..\n",
    "collection.insert_many(data)"
   ]
  },
  {
   "cell_type": "code",
   "execution_count": 19,
   "metadata": {
    "tags": [
     "outputPrepend"
    ]
   },
   "outputs": [
    {
     "output_type": "stream",
     "name": "stdout",
     "text": "e turns.'}, 'Roost': {'Type': 'Flying', 'Level': '—', 'Power': '--', 'Accuracy': '--', 'PP': '10', 'Effect %': '--', 'Description': \"The user lands and rests its body. It restores the user's HP by up to half of its max HP.\"}, 'Double Team': {'Type': 'Normal', 'Level': '5', 'Power': '--', 'Accuracy': '--', 'PP': '15', 'Effect %': '--', 'Description': 'By moving rapidly, the user makes illusory copies of itself to raise its evasiveness.'}, 'Air Slash': {'Type': 'Flying', 'Level': '10', 'Power': '75', 'Accuracy': '95', 'PP': '15', 'Effect %': '30', 'Description': 'The user attacks with a blade of air that slices even the sky. This may also make the target flinch.'}, 'Snarl': {'Type': 'Dark', 'Level': '18', 'Power': '55', 'Accuracy': '95', 'PP': '15', 'Effect %': '100', 'Description': \"The user yells as if it's ranting about something, which lowers the Sp. Atk stat of opposing Pokémon.\"}, 'Oblivion Wing': {'Type': 'Flying', 'Level': '26', 'Power': '80', 'Accuracy': '100', 'PP': '10', 'Effect %': '--', 'Description': \"The user absorbs its target's HP. The user's HP is restored by over half of the damage taken by the target.\"}, 'Disable': {'Type': 'Normal', 'Level': '35', 'Power': '--', 'Accuracy': '100', 'PP': '20', 'Effect %': '--', 'Description': 'For four turns, this move prevents the target from using the move it last used.'}, 'Dark Pulse': {'Type': 'Dark', 'Level': '44', 'Power': '80', 'Accuracy': '100', 'PP': '15', 'Effect %': '20', 'Description': 'The user releases a horrible aura imbued with dark thoughts. This may also make the target flinch.'}, 'Foul Play': {'Type': 'Dark', 'Level': '51', 'Power': '95', 'Accuracy': '100', 'PP': '15', 'Effect %': '--', 'Description': \"The user turns the target's power against it. The higher the target's Attack stat, the greater the move's power.\"}, 'Phantom Force': {'Type': 'Ghost', 'Level': '55', 'Power': '90', 'Accuracy': '100', 'PP': '10', 'Effect %': '--', 'Description': 'The user vanishes somewhere, then strikes the target on the next turn. This move hits even if the target protects itself.'}, 'Psychic': {'Type': 'Psychic', 'Level': '59', 'Power': '90', 'Accuracy': '100', 'PP': '10', 'Effect %': '10', 'Description': \"The target is hit by a strong telekinetic force. This may also lower the target's Sp. Def stat.\"}, 'Dragon Rush': {'Type': 'Dragon', 'Level': '63', 'Power': '100', 'Accuracy': '75', 'PP': '10', 'Effect %': '20', 'Description': 'The user tackles the target while exhibiting overwhelming menace. This may also make the target flinch.'}, 'Focus Blast': {'Type': 'Fighting', 'Level': '72', 'Power': '120', 'Accuracy': '70', 'PP': '5', 'Effect %': '10', 'Description': \"The user heightens its mental focus and unleashes its power. This may also lower the target's  Sp. Def stat.\"}, 'Sucker Punch': {'Type': 'Dark', 'Level': '80', 'Power': '70', 'Accuracy': '100', 'PP': '5', 'Effect %': '--', 'Description': 'This move enables the user to attack first. This move fails if the target is not readying an attack.'}, 'Hyper Beam': {'Type': 'Normal', 'Level': '88', 'Power': '150', 'Accuracy': '90', 'PP': '5', 'Effect %': '--', 'Description': \"The target is attacked with a powerful beam. The user can't move on the next turn.\"}, 'Sky Attack': {'Type': 'Flying', 'Level': '93', 'Power': '140', 'Accuracy': '90', 'PP': '5', 'Effect %': '30', 'Description': 'A second-turn attack move where critical hits land more easily. This may also make the target flinch.'}}, 'Generation': 6, 'Legendary': True, 'Tier': 'Uber', 'Full Type': 'Dark/Flying'}\n{'_id': ObjectId('5ed06cfc722f242f282df02a'), 'Id': 718, 'Name': 'Zygarde', 'Type 1': 'Dragon', 'Type 2': 'Ground', 'Abilities': ['Aura Break', 'Power Construct'], 'Total': 600, 'HP': 108, 'Attack': 100, 'Defense': 121, 'Sp_Attack': 81, 'Sp_Defense': 95, 'Speed': 95, 'Moves': {'Glare': {'Type': 'Normal', 'Level': '—', 'Power': '--', 'Accuracy': '100', 'PP': '30', 'Effect %': '--', 'Description': 'The user intimidates the target with the pattern on its belly to cause paralysis.'}, 'Bulldoze': {'Type': 'Ground', 'Level': '—', 'Power': '60', 'Accuracy': '100', 'PP': '20', 'Effect %': '100', 'Description': 'The user strikes everything around it by stomping down on the ground. This lowers the Speed stat of those hit.'}, 'Dragon Breath': {'Type': 'Dragon', 'Level': '—', 'Power': '60', 'Accuracy': '100', 'PP': '20', 'Effect %': '30', 'Description': 'The user exhales a mighty gust that inflicts damage. This may also leave the target with paralysis.'}, 'Bite': {'Type': 'Dark', 'Level': '—', 'Power': '60', 'Accuracy': '100', 'PP': '25', 'Effect %': '30', 'Description': 'The target is bitten with viciously sharp fangs. This may also make the target flinch.'}, 'Safeguard': {'Type': 'Normal', 'Level': '5', 'Power': '--', 'Accuracy': '--', 'PP': '25', 'Effect %': '--', 'Description': 'The user creates a protective field that prevents status conditions for five turns.'}, 'Dig': {'Type': 'Ground', 'Level': '10', 'Power': '80', 'Accuracy': '100', 'PP': '10', 'Effect %': '--', 'Description': 'The user burrows, then attacks on the next turn.'}, 'Bind': {'Type': 'Normal', 'Level': '18', 'Power': '15', 'Accuracy': '85', 'PP': '20', 'Effect %': '100', 'Description': 'Things such as long bodies or tentacles are used to bind and squeeze the target for four to five turns.'}, \"Land's Wrath\": {'Type': 'Ground', 'Level': '26', 'Power': '90', 'Accuracy': '100', 'PP': '10', 'Effect %': '--', 'Description': 'The user gathers the energy of the land and focuses that power on opposing Pokémon to damage them.'}, 'Sandstorm': {'Type': 'Rock', 'Level': '35', 'Power': '--', 'Accuracy': '--', 'PP': '10', 'Effect %': '--', 'Description': 'A five-turn sandstorm is summoned to hurt all combatants except the Rock, Ground, and Steel types. It raises the Sp. Def stat of Rock types.'}, 'Haze': {'Type': 'Ice', 'Level': '44', 'Power': '--', 'Accuracy': '--', 'PP': '30', 'Effect %': '--', 'Description': 'The user creates a haze that eliminates every stat change among all the Pokémon engaged in battle.'}, 'Crunch': {'Type': 'Dark', 'Level': '51', 'Power': '80', 'Accuracy': '100', 'PP': '15', 'Effect %': '20', 'Description': \"The user crunches up the target with sharp fangs. This may also lower the target's Defense stat.\"}, 'Earthquake': {'Type': 'Ground', 'Level': '55', 'Power': '100', 'Accuracy': '100', 'PP': '10', 'Effect %': '--', 'Description': 'The user sets off an earthquake that strikes every Pokémon around it.'}, 'Camouflage': {'Type': 'Normal', 'Level': '59', 'Power': '--', 'Accuracy': '--', 'PP': '20', 'Effect %': '--', 'Description': \"The user's type is changed depending on its environment, such as at water's edge, in grass, or in a cave.\"}, 'Dragon Pulse': {'Type': 'Dragon', 'Level': '63', 'Power': '85', 'Accuracy': '100', 'PP': '10', 'Effect %': '--', 'Description': \"The target is attacked with a shock wave generated by the user's gaping mouth.\"}, 'Coil': {'Type': 'Poison', 'Level': '72', 'Power': '--', 'Accuracy': '--', 'PP': '20', 'Effect %': '--', 'Description': 'The user coils up and concentrates. This raises its Attack and Defense stats as well as its accuracy.'}, 'Outrage': {'Type': 'Dragon', 'Level': '80', 'Power': '120', 'Accuracy': '100', 'PP': '10', 'Effect %': '--', 'Description': 'The user rampages and attacks for two to three turns. The user then becomes confused.'}}, 'Generation': 6, 'Legendary': True, 'Tier': 'BL', 'Full Type': 'Dragon/Ground'}\n{'_id': ObjectId('5ed06cfc722f242f282df02b'), 'Id': 719, 'Name': 'Diancie', 'Type 1': 'Rock', 'Type 2': 'Fairy', 'Abilities': ['Clear Body'], 'Total': 600, 'HP': 50, 'Attack': 100, 'Defense': 150, 'Sp_Attack': 100, 'Sp_Defense': 150, 'Speed': 50, 'Moves': {'Tackle': {'Type': 'Normal', 'Level': '—', 'Power': '40', 'Accuracy': '100', 'PP': '35', 'Effect %': '--', 'Description': 'A physical attack in which the user charges and slams into the target with its whole body.'}, 'Harden': {'Type': 'Normal', 'Level': '—', 'Power': '--', 'Accuracy': '--', 'PP': '30', 'Effect %': '--', 'Description': 'The user stiffens all the muscles in its body to raise its Defense stat.'}, 'Rock Throw': {'Type': 'Rock', 'Level': '—', 'Power': '50', 'Accuracy': '90', 'PP': '15', 'Effect %': '--', 'Description': 'The user picks up and throws a small rock at the target to attack.'}, 'Sharpen': {'Type': 'Normal', 'Level': '5', 'Power': '--', 'Accuracy': '--', 'PP': '30', 'Effect %': '--', 'Description': 'The user makes its edges more jagged,  which raises its Attack stat.'}, 'Smack Down': {'Type': 'Rock', 'Level': '8', 'Power': '50', 'Accuracy': '100', 'PP': '15', 'Effect %': '100', 'Description': \"The user throws a stone or similar projectile to attack an opponent. A flying Pokémon will fall to the ground when it's hit.\"}, 'Reflect': {'Type': 'Psychic', 'Level': '12', 'Power': '--', 'Accuracy': '--', 'PP': '20', 'Effect %': '--', 'Description': 'A wondrous wall of light is put up to reduce damage from physical attacks for five turns.'}, 'Stealth Rock': {'Type': 'Rock', 'Level': '18', 'Power': '--', 'Accuracy': '--', 'PP': '20', 'Effect %': '--', 'Description': 'The user lays a trap of levitating stones around the opposing team. The trap hurts opposing Pokémon that switch into battle.'}, 'Guard Split': {'Type': 'Psychic', 'Level': '21', 'Power': '--', 'Accuracy': '--', 'PP': '10', 'Effect %': '--', 'Description': 'The user employs its psychic power to average its Defense and Sp. Def stats with those of the target.'}, 'Ancient Power': {'Type': 'Rock', 'Level': '27', 'Power': '60', 'Accuracy': '100', 'PP': '5', 'Effect %': '10', 'Description': \"The user attacks with a prehistoric power. This may also raise all the user's stats at once.\"}, 'Flail': {'Type': 'Normal', 'Level': '31', 'Power': '??', 'Accuracy': '100', 'PP': '15', 'Effect %': '--', 'Description': \"The user flails about aimlessly to attack. The less HP the user has, the greater the move's power.\"}, 'Skill Swap': {'Type': 'Psychic', 'Level': '35', 'Power': '--', 'Accuracy': '--', 'PP': '10', 'Effect %': '--', 'Description': 'The user employs its psychic power to exchange Abilities with the target.'}, 'Power Gem': {'Type': 'Rock', 'Level': '40', 'Power': '80', 'Accuracy': '100', 'PP': '20', 'Effect %': '--', 'Description': 'The user attacks with a ray of light that sparkles as if it were made of gemstones.'}, 'Trick Room': {'Type': 'Psychic', 'Level': '46', 'Power': '--', 'Accuracy': '--', 'PP': '5', 'Effect %': '--', 'Description': 'The user creates a bizarre area in which slower Pokémon get to move first for five turns.'}, 'Stone Edge': {'Type': 'Rock', 'Level': '49', 'Power': '100', 'Accuracy': '80', 'PP': '5', 'Effect %': '--', 'Description': 'The user stabs the target from below with sharpened stones. Critical hits land more easily.'}, 'Moonblast': {'Type': 'Fairy', 'Level': '50', 'Power': '95', 'Accuracy': '100', 'PP': '15', 'Effect %': '30', 'Description': \"Borrowing the power of the moon, the user attacks the target. This may also lower the target's Sp. Atk stat.\"}, 'Diamond Storm': {'Type': 'Rock', 'Level': '50', 'Power': '100', 'Accuracy': '95', 'PP': '5', 'Effect %': '50', 'Description': \"The user whips up a storm of diamonds to damage opposing Pokémon. This may also sharply raise the user's Defense stat.\"}, 'Light Screen': {'Type': 'Psychic', 'Level': '60', 'Power': '--', 'Accuracy': '--', 'PP': '30', 'Effect %': '--', 'Description': 'A wondrous wall of light is put up to reduce damage from special attacks for five turns.'}, 'Safeguard': {'Type': 'Normal', 'Level': '70', 'Power': '--', 'Accuracy': '--', 'PP': '25', 'Effect %': '--', 'Description': 'The user creates a protective field that prevents status conditions for five turns.'}}, 'Generation': 6, 'Legendary': True, 'Tier': 'RU', 'Full Type': 'Rock/Fairy'}\n{'_id': ObjectId('5ed06cfc722f242f282df02c'), 'Id': 720, 'Name': 'Hoopa', 'Type 1': 'Psychic', 'Type 2': 'Ghost', 'Abilities': ['Magician'], 'Total': 600, 'HP': 80, 'Attack': 110, 'Defense': 60, 'Sp_Attack': 150, 'Sp_Defense': 130, 'Speed': 70, 'Moves': {'Hyperspace Hole': {'Type': 'Psychic', 'Level': '85', 'Power': '80', 'Accuracy': '--', 'PP': '5', 'Effect %': '--', 'Description': 'Using a hyperspace hole, the user appears right next to the target and strikes. This also hits a target using a move such as Protect or Detect.'}, 'Trick': {'Type': 'Psychic', 'Level': '—', 'Power': '--', 'Accuracy': '100', 'PP': '10', 'Effect %': '--', 'Description': 'The user catches the target off guard and swaps its held item with its own.'}, 'Destiny Bond': {'Type': 'Ghost', 'Level': '—', 'Power': '--', 'Accuracy': '--', 'PP': '5', 'Effect %': '--', 'Description': 'After using this move, if the user faints, the Pokémon that landed the knockout hit also faints. Its chance of failing rises if it is used in succession.'}, 'Ally Switch': {'Type': 'Psychic', 'Level': '—', 'Power': '--', 'Accuracy': '--', 'PP': '15', 'Effect %': '--', 'Description': 'The user teleports using a strange power and switches places with one of its allies.'}, 'Confusion': {'Type': 'Psychic', 'Level': '—', 'Power': '50', 'Accuracy': '100', 'PP': '25', 'Effect %': '10', 'Description': 'The target is hit by a weak telekinetic force. This may also confuse the target.'}, 'Astonish': {'Type': 'Ghost', 'Level': '6', 'Power': '30', 'Accuracy': '100', 'PP': '15', 'Effect %': '30', 'Description': 'The user attacks the target while shouting in a startling fashion. This may also make the target flinch.'}, 'Magic Coat': {'Type': 'Psychic', 'Level': '10', 'Power': '--', 'Accuracy': '--', 'PP': '15', 'Effect %': '--', 'Description': 'A barrier reflects back to the target moves like Leech Seed and moves that damage status.'}, 'Light Screen': {'Type': 'Psychic', 'Level': '15', 'Power': '--', 'Accuracy': '--', 'PP': '30', 'Effect %': '--', 'Description': 'A wondrous wall of light is put up to reduce damage from special attacks for five turns.'}, 'Psybeam': {'Type': 'Psychic', 'Level': '19', 'Power': '65', 'Accuracy': '100', 'PP': '20', 'Effect %': '10', 'Description': 'The target is attacked with a peculiar ray. This may also leave the target confused.'}, 'Skill Swap': {'Type': 'Psychic', 'Level': '25', 'Power': '--', 'Accuracy': '--', 'PP': '10', 'Effect %': '--', 'Description': 'The user employs its psychic power to exchange Abilities with the target.'}, 'Power Split': {'Type': 'Psychic', 'Level': '29', 'Power': '--', 'Accuracy': '--', 'PP': '10', 'Effect %': '--', 'Description': 'The user employs its psychic power to average its Attack and Sp. Atk stats with those of the target.'}, 'Guard Split': {'Type': 'Psychic', 'Level': '29', 'Power': '--', 'Accuracy': '--', 'PP': '10', 'Effect %': '--', 'Description': 'The user employs its psychic power to average its Defense and Sp. Def stats with those of the target.'}, 'Phantom Force': {'Type': 'Ghost', 'Level': '35', 'Power': '90', 'Accuracy': '100', 'PP': '10', 'Effect %': '--', 'Description': 'The user vanishes somewhere, then strikes the target on the next turn. This move hits even if the target protects itself.'}, 'Zen Headbutt': {'Type': 'Psychic', 'Level': '46', 'Power': '80', 'Accuracy': '90', 'PP': '15', 'Effect %': '20', 'Description': 'The user focuses its willpower to its head and attacks the target. This may also make the target flinch.'}, 'Wonder Room': {'Type': 'Psychic', 'Level': '50', 'Power': '--', 'Accuracy': '--', 'PP': '10', 'Effect %': '--', 'Description': \"The user creates a bizarre area in which Pokémon's Defense and Sp. Def stats are swapped for five turns.\"}, 'Trick Room': {'Type': 'Psychic', 'Level': '50', 'Power': '--', 'Accuracy': '--', 'PP': '5', 'Effect %': '--', 'Description': 'The user creates a bizarre area in which slower Pokémon get to move first for five turns.'}, 'Shadow Ball': {'Type': 'Ghost', 'Level': '55', 'Power': '80', 'Accuracy': '100', 'PP': '15', 'Effect %': '20', 'Description': \"The user hurls a shadowy blob at the target. This may also lower the target's Sp. Def stat.\"}, 'Nasty Plot': {'Type': 'Dark', 'Level': '68', 'Power': '--', 'Accuracy': '--', 'PP': '20', 'Effect %': '--', 'Description': \"The user stimulates its brain by thinking bad thoughts. This sharply raises the user's Sp. Atk stat.\"}, 'Psychic': {'Type': 'Psychic', 'Level': '75', 'Power': '90', 'Accuracy': '100', 'PP': '10', 'Effect %': '10', 'Description': \"The target is hit by a strong telekinetic force. This may also lower the target's Sp. Def stat.\"}}, 'Generation': 6, 'Legendary': True, 'Tier': 'RU', 'Full Type': 'Psychic/Ghost'}\n{'_id': ObjectId('5ed06cfc722f242f282df02d'), 'Id': 721, 'Name': 'Volcanion', 'Type 1': 'Fire', 'Type 2': 'Water', 'Abilities': ['Water Absorb'], 'Total': 600, 'HP': 80, 'Attack': 110, 'Defense': 120, 'Sp_Attack': 130, 'Sp_Defense': 90, 'Speed': 70, 'Moves': {'Steam Eruption': {'Type': 'Water', 'Level': '85', 'Power': '110', 'Accuracy': '95', 'PP': '5', 'Effect %': '30', 'Description': 'The user immerses the target in superheated steam. This may also leave the target with a burn.'}, 'Flare Blitz': {'Type': 'Fire', 'Level': '58', 'Power': '120', 'Accuracy': '100', 'PP': '15', 'Effect %': '10', 'Description': 'The user cloaks itself in fire and charges the target. This also damages the user quite a lot. This attack may leave the target with a burn.'}, 'Take Down': {'Type': 'Normal', 'Level': '—', 'Power': '90', 'Accuracy': '85', 'PP': '20', 'Effect %': '--', 'Description': 'A reckless, full-body charge attack for slamming into the target. This also damages the user a little.'}, 'Mist': {'Type': 'Ice', 'Level': '8', 'Power': '--', 'Accuracy': '--', 'PP': '30', 'Effect %': '--', 'Description': 'The user cloaks itself and its allies in a white mist that prevents any of their stats from being lowered for five turns.'}, 'Haze': {'Type': 'Ice', 'Level': '11', 'Power': '--', 'Accuracy': '--', 'PP': '30', 'Effect %': '--', 'Description': 'The user creates a haze that eliminates every stat change among all the Pokémon engaged in battle.'}, 'Flame Charge': {'Type': 'Fire', 'Level': '15', 'Power': '50', 'Accuracy': '100', 'PP': '20', 'Effect %': '100', 'Description': 'Cloaking itself in flame, the user attacks. Then, building up more power, the user raises its Speed stat.'}, 'Water Pulse': {'Type': 'Water', 'Level': '21', 'Power': '60', 'Accuracy': '100', 'PP': '20', 'Effect %': '20', 'Description': 'The user attacks the target with a pulsing blast of water. This may also confuse the target.'}, 'Stomp': {'Type': 'Normal', 'Level': '28', 'Power': '65', 'Accuracy': '100', 'PP': '20', 'Effect %': '30', 'Description': 'The target is stomped with a big foot. This may also make the target flinch.'}, 'Scald': {'Type': 'Water', 'Level': '32', 'Power': '80', 'Accuracy': '100', 'PP': '15', 'Effect %': '30', 'Description': 'The user shoots boiling hot water at its target. This may also leave the target with a burn.'}, 'Weather Ball': {'Type': 'Normal', 'Level': '40', 'Power': '50', 'Accuracy': '100', 'PP': '10', 'Effect %': '--', 'Description': 'This attack move varies in power and type depending on the weather.'}, 'Body Slam': {'Type': 'Normal', 'Level': '46', 'Power': '85', 'Accuracy': '100', 'PP': '15', 'Effect %': '30', 'Description': 'The user drops onto the target with its full body weight. This may also leave the target with paralysis.'}, 'Hydro Pump': {'Type': 'Water', 'Level': '50', 'Power': '110', 'Accuracy': '80', 'PP': '5', 'Effect %': '--', 'Description': 'The target is blasted by a huge volume of water launched under great pressure.'}, 'Overheat': {'Type': 'Fire', 'Level': '65', 'Power': '130', 'Accuracy': '90', 'PP': '5', 'Effect %': '100', 'Description': \"The user attacks the target at full power. The attack's recoil harshly lowers the user's Sp. Atk stat.\"}, 'Explosion': {'Type': 'Normal', 'Level': '76', 'Power': '250', 'Accuracy': '100', 'PP': '5', 'Effect %': '--', 'Description': 'The user attacks everything around it by causing a tremendous explosion. The user faints upon using this move.'}}, 'Generation': 6, 'Legendary': True, 'Tier': 'OU', 'Full Type': 'Fire/Water'}\n"
    }
   ],
   "source": [
    "pokemon_col=db.pokemons.find()\n",
    "for p in pokemon_col:\n",
    "    print(p)"
   ]
  },
  {
   "cell_type": "code",
   "execution_count": 20,
   "metadata": {},
   "outputs": [],
   "source": [
    "collection2 = db.type"
   ]
  },
  {
   "cell_type": "code",
   "execution_count": 21,
   "metadata": {},
   "outputs": [
    {
     "output_type": "execute_result",
     "data": {
      "text/plain": "<pymongo.results.InsertManyResult at 0x23b81754948>"
     },
     "metadata": {},
     "execution_count": 21
    }
   ],
   "source": [
    "# Dictionary to be inserted into MongoDB\n",
    "data2 = type_df.to_dict(orient='records')  # Here's our added param..\n",
    "collection2.insert_many(data2)"
   ]
  },
  {
   "cell_type": "code",
   "execution_count": 22,
   "metadata": {
    "tags": [
     "outputPrepend"
    ]
   },
   "outputs": [
    {
     "output_type": "stream",
     "name": "stdout",
     "text": ": 60.0}\n{'_id': ObjectId('5ed06cfc722f242f282df050'), 'Avg Total': 462.8, 'Avg HP': 81.6, 'Avg Attack': 114.2, 'Avg Defense': 74.8, 'Avg Sp Attack': 47.5, 'Avg Sp Defense': 78.3, 'Avg Speed': 66.5}\n{'_id': ObjectId('5ed06cfc722f242f282df051'), 'Avg Total': 495.0, 'Avg HP': 95.0, 'Avg Attack': 124.0, 'Avg Defense': 78.0, 'Avg Sp Attack': 69.0, 'Avg Sp Defense': 71.0, 'Avg Speed': 58.0}\n{'_id': ObjectId('5ed06cfc722f242f282df052'), 'Avg Total': 500.0, 'Avg HP': 78.0, 'Avg Attack': 92.0, 'Avg Defense': 75.0, 'Avg Sp Attack': 74.0, 'Avg Sp Defense': 63.0, 'Avg Speed': 118.0}\n{'_id': ObjectId('5ed06cfc722f242f282df053'), 'Avg Total': 410.0, 'Avg HP': 60.0, 'Avg Attack': 60.0, 'Avg Defense': 75.0, 'Avg Sp Attack': 60.0, 'Avg Sp Defense': 75.0, 'Avg Speed': 80.0}\n{'_id': ObjectId('5ed06cfc722f242f282df054'), 'Avg Total': 525.0, 'Avg HP': 70.0, 'Avg Attack': 110.0, 'Avg Defense': 70.0, 'Avg Sp Attack': 115.0, 'Avg Sp Defense': 70.0, 'Avg Speed': 90.0}\n{'_id': ObjectId('5ed06cfc722f242f282df055'), 'Avg Total': 515.5, 'Avg HP': 81.5, 'Avg Attack': 102.7, 'Avg Defense': 76.3, 'Avg Sp Attack': 90.7, 'Avg Sp Defense': 79.9, 'Avg Speed': 84.5}\n{'_id': ObjectId('5ed06cfc722f242f282df056'), 'Avg Total': 480.4, 'Avg HP': 78.0, 'Avg Attack': 102.0, 'Avg Defense': 63.6, 'Avg Sp Attack': 95.4, 'Avg Sp Defense': 63.6, 'Avg Speed': 77.8}\n{'_id': ObjectId('5ed06cfc722f242f282df057'), 'Avg Total': 498.8, 'Avg HP': 77.0, 'Avg Attack': 84.5, 'Avg Defense': 73.5, 'Avg Sp Attack': 91.0, 'Avg Sp Defense': 72.8, 'Avg Speed': 100.0}\n{'_id': ObjectId('5ed06cfc722f242f282df058'), 'Avg Total': 460.0, 'Avg HP': 70.0, 'Avg Attack': 100.0, 'Avg Defense': 70.0, 'Avg Sp Attack': 105.0, 'Avg Sp Defense': 75.0, 'Avg Speed': 40.0}\n{'_id': ObjectId('5ed06cfc722f242f282df059'), 'Avg Total': 507.0, 'Avg HP': 86.0, 'Avg Attack': 68.0, 'Avg Defense': 72.0, 'Avg Sp Attack': 109.0, 'Avg Sp Defense': 66.0, 'Avg Speed': 106.0}\n{'_id': ObjectId('5ed06cfc722f242f282df05a'), 'Avg Total': 534.0, 'Avg HP': 75.0, 'Avg Attack': 69.0, 'Avg Defense': 72.0, 'Avg Sp Attack': 114.0, 'Avg Sp Defense': 100.0, 'Avg Speed': 104.0}\n{'_id': ObjectId('5ed06cfc722f242f282df05b'), 'Avg Total': 430.0, 'Avg HP': 60.0, 'Avg Attack': 50.0, 'Avg Defense': 120.0, 'Avg Sp Attack': 90.0, 'Avg Sp Defense': 80.0, 'Avg Speed': 30.0}\n{'_id': ObjectId('5ed06cfc722f242f282df05c'), 'Avg Total': 600.0, 'Avg HP': 91.0, 'Avg Attack': 90.0, 'Avg Defense': 106.0, 'Avg Sp Attack': 130.0, 'Avg Sp Defense': 106.0, 'Avg Speed': 77.0}\n{'_id': ObjectId('5ed06cfc722f242f282df05d'), 'Avg Total': 600.0, 'Avg HP': 80.0, 'Avg Attack': 110.0, 'Avg Defense': 120.0, 'Avg Sp Attack': 130.0, 'Avg Sp Defense': 90.0, 'Avg Speed': 70.0}\n{'_id': ObjectId('5ed06cfc722f242f282df05e'), 'Avg Total': 580.0, 'Avg HP': 79.0, 'Avg Attack': 115.0, 'Avg Defense': 70.0, 'Avg Sp Attack': 125.0, 'Avg Sp Defense': 80.0, 'Avg Speed': 111.0}\n{'_id': ObjectId('5ed06cfc722f242f282df05f'), 'Avg Total': 535.0, 'Avg HP': 85.0, 'Avg Attack': 70.0, 'Avg Defense': 80.0, 'Avg Sp Attack': 97.0, 'Avg Sp Defense': 80.0, 'Avg Speed': 123.0}\n{'_id': ObjectId('5ed06cfc722f242f282df060'), 'Avg Total': 474.7, 'Avg HP': 54.5, 'Avg Attack': 75.8, 'Avg Defense': 99.2, 'Avg Sp Attack': 82.2, 'Avg Sp Defense': 103.8, 'Avg Speed': 59.2}\n{'_id': ObjectId('5ed06cfc722f242f282df061'), 'Avg Total': 485.0, 'Avg HP': 50.0, 'Avg Attack': 92.0, 'Avg Defense': 108.0, 'Avg Sp Attack': 92.0, 'Avg Sp Defense': 108.0, 'Avg Speed': 35.0}\n{'_id': ObjectId('5ed06cfc722f242f282df062'), 'Avg Total': 680.0, 'Avg HP': 150.0, 'Avg Attack': 100.0, 'Avg Defense': 120.0, 'Avg Sp Attack': 100.0, 'Avg Sp Defense': 120.0, 'Avg Speed': 90.0}\n{'_id': ObjectId('5ed06cfc722f242f282df063'), 'Avg Total': 520.0, 'Avg HP': 60.0, 'Avg Attack': 55.0, 'Avg Defense': 90.0, 'Avg Sp Attack': 145.0, 'Avg Sp Defense': 90.0, 'Avg Speed': 80.0}\n{'_id': ObjectId('5ed06cfc722f242f282df064'), 'Avg Total': 498.0, 'Avg HP': 150.0, 'Avg Attack': 80.0, 'Avg Defense': 44.0, 'Avg Sp Attack': 90.0, 'Avg Sp Defense': 54.0, 'Avg Speed': 80.0}\n{'_id': ObjectId('5ed06cfc722f242f282df065'), 'Avg Total': 484.0, 'Avg HP': 75.0, 'Avg Attack': 100.0, 'Avg Defense': 99.0, 'Avg Sp Attack': 61.5, 'Avg Sp Defense': 78.5, 'Avg Speed': 70.0}\n{'_id': ObjectId('5ed06cfc722f242f282df066'), 'Avg Total': 452.5, 'Avg HP': 52.5, 'Avg Attack': 57.5, 'Avg Defense': 52.5, 'Avg Sp Attack': 122.5, 'Avg Sp Defense': 65.0, 'Avg Speed': 102.5}\n{'_id': ObjectId('5ed06cfc722f242f282df067'), 'Avg Total': 487.4, 'Avg HP': 77.2, 'Avg Attack': 82.6, 'Avg Defense': 85.8, 'Avg Sp Attack': 90.1, 'Avg Sp Defense': 75.8, 'Avg Speed': 75.8}\n{'_id': ObjectId('5ed06cfc722f242f282df068'), 'Avg Total': 477.5, 'Avg HP': 80.0, 'Avg Attack': 107.5, 'Avg Defense': 60.0, 'Avg Sp Attack': 102.5, 'Avg Sp Defense': 60.0, 'Avg Speed': 67.5}\n{'_id': ObjectId('5ed06cfc722f242f282df069'), 'Avg Total': 480.0, 'Avg HP': 60.0, 'Avg Attack': 67.0, 'Avg Defense': 85.0, 'Avg Sp Attack': 77.0, 'Avg Sp Defense': 75.0, 'Avg Speed': 116.0}\n{'_id': ObjectId('5ed06cfc722f242f282df06a'), 'Avg Total': 523.3, 'Avg HP': 79.7, 'Avg Attack': 109.0, 'Avg Defense': 91.3, 'Avg Sp Attack': 74.7, 'Avg Sp Defense': 88.0, 'Avg Speed': 80.7}\n{'_id': ObjectId('5ed06cfc722f242f282df06b'), 'Avg Total': 460.0, 'Avg HP': 87.0, 'Avg Attack': 61.5, 'Avg Defense': 76.5, 'Avg Sp Attack': 63.5, 'Avg Sp Defense': 91.0, 'Avg Speed': 80.5}\n{'_id': ObjectId('5ed06cfc722f242f282df06c'), 'Avg Total': 525.0, 'Avg HP': 95.0, 'Avg Attack': 109.0, 'Avg Defense': 105.0, 'Avg Sp Attack': 75.0, 'Avg Sp Defense': 85.0, 'Avg Speed': 56.0}\n{'_id': ObjectId('5ed06cfc722f242f282df06d'), 'Avg Total': 494.0, 'Avg HP': 90.0, 'Avg Attack': 92.0, 'Avg Defense': 75.0, 'Avg Sp Attack': 92.0, 'Avg Sp Defense': 85.0, 'Avg Speed': 60.0}\n{'_id': ObjectId('5ed06cfc722f242f282df06e'), 'Avg Total': 480.7, 'Avg HP': 76.5, 'Avg Attack': 80.3, 'Avg Defense': 68.8, 'Avg Sp Attack': 103.3, 'Avg Sp Defense': 87.5, 'Avg Speed': 64.2}\n{'_id': ObjectId('5ed06cfc722f242f282df06f'), 'Avg Total': 530.0, 'Avg HP': 95.0, 'Avg Attack': 95.0, 'Avg Defense': 85.0, 'Avg Sp Attack': 125.0, 'Avg Sp Defense': 75.0, 'Avg Speed': 55.0}\n{'_id': ObjectId('5ed06cfc722f242f282df070'), 'Avg Total': 397.0, 'Avg HP': 59.0, 'Avg Attack': 72.0, 'Avg Defense': 111.0, 'Avg Sp Attack': 39.0, 'Avg Sp Defense': 101.0, 'Avg Speed': 15.0}\n{'_id': ObjectId('5ed06cfc722f242f282df071'), 'Avg Total': 499.2, 'Avg HP': 78.0, 'Avg Attack': 110.3, 'Avg Defense': 108.0, 'Avg Sp Attack': 62.2, 'Avg Sp Defense': 71.2, 'Avg Speed': 69.5}\n{'_id': ObjectId('5ed06cfc722f242f282df072'), 'Avg Total': 435.0, 'Avg HP': 77.5, 'Avg Attack': 99.5, 'Avg Defense': 62.5, 'Avg Sp Attack': 55.0, 'Avg Sp Defense': 57.5, 'Avg Speed': 83.0}\n{'_id': ObjectId('5ed06cfc722f242f282df073'), 'Avg Total': 430.0, 'Avg HP': 65.0, 'Avg Attack': 85.0, 'Avg Defense': 65.0, 'Avg Sp Attack': 65.0, 'Avg Sp Defense': 65.0, 'Avg Speed': 85.0}\n{'_id': ObjectId('5ed06cfc722f242f282df074'), 'Avg Total': 471.0, 'Avg HP': 109.0, 'Avg Attack': 66.0, 'Avg Defense': 84.0, 'Avg Sp Attack': 81.0, 'Avg Sp Defense': 99.0, 'Avg Speed': 32.0}\n{'_id': ObjectId('5ed06cfc722f242f282df075'), 'Avg Total': 513.3, 'Avg HP': 76.3, 'Avg Attack': 98.3, 'Avg Defense': 106.7, 'Avg Sp Attack': 65.0, 'Avg Sp Defense': 73.3, 'Avg Speed': 93.7}\n{'_id': ObjectId('5ed06cfc722f242f282df076'), 'Avg Total': 483.0, 'Avg HP': 89.0, 'Avg Attack': 124.0, 'Avg Defense': 80.0, 'Avg Sp Attack': 55.0, 'Avg Sp Defense': 80.0, 'Avg Speed': 55.0}\n{'_id': ObjectId('5ed06cfc722f242f282df077'), 'Avg Total': 500.0, 'Avg HP': 60.0, 'Avg Attack': 70.0, 'Avg Defense': 105.0, 'Avg Sp Attack': 70.0, 'Avg Sp Defense': 120.0, 'Avg Speed': 75.0}\n{'_id': ObjectId('5ed06cfc722f242f282df078'), 'Avg Total': 510.0, 'Avg HP': 110.0, 'Avg Attack': 135.0, 'Avg Defense': 125.0, 'Avg Sp Attack': 50.0, 'Avg Sp Defense': 50.0, 'Avg Speed': 40.0}\n{'_id': ObjectId('5ed06cfc722f242f282df079'), 'Avg Total': 508.0, 'Avg HP': 110.0, 'Avg Attack': 135.0, 'Avg Defense': 60.0, 'Avg Sp Attack': 50.0, 'Avg Sp Defense': 65.0, 'Avg Speed': 88.0}\n{'_id': ObjectId('5ed06cfc722f242f282df07a'), 'Avg Total': 522.0, 'Avg HP': 80.9, 'Avg Attack': 83.1, 'Avg Defense': 98.4, 'Avg Sp Attack': 89.9, 'Avg Sp Defense': 104.4, 'Avg Speed': 65.3}\n{'_id': ObjectId('5ed06cfc722f242f282df07b'), 'Avg Total': 455.0, 'Avg HP': 67.5, 'Avg Attack': 70.0, 'Avg Defense': 72.5, 'Avg Sp Attack': 80.0, 'Avg Sp Defense': 85.0, 'Avg Speed': 80.0}\n{'_id': ObjectId('5ed06cfc722f242f282df07c'), 'Avg Total': 480.0, 'Avg HP': 70.0, 'Avg Attack': 80.0, 'Avg Defense': 70.0, 'Avg Sp Attack': 80.0, 'Avg Sp Defense': 70.0, 'Avg Speed': 110.0}\n{'_id': ObjectId('5ed06cfc722f242f282df07d'), 'Avg Total': 490.0, 'Avg HP': 105.0, 'Avg Attack': 115.0, 'Avg Defense': 80.0, 'Avg Sp Attack': 65.0, 'Avg Sp Defense': 60.0, 'Avg Speed': 65.0}\n{'_id': ObjectId('5ed06cfc722f242f282df07e'), 'Avg Total': 455.0, 'Avg HP': 65.0, 'Avg Attack': 50.0, 'Avg Defense': 35.0, 'Avg Sp Attack': 115.0, 'Avg Sp Defense': 95.0, 'Avg Speed': 95.0}\n{'_id': ObjectId('5ed06cfc722f242f282df07f'), 'Avg Total': 530.0, 'Avg HP': 110.0, 'Avg Attack': 80.0, 'Avg Defense': 90.0, 'Avg Sp Attack': 95.0, 'Avg Sp Defense': 90.0, 'Avg Speed': 65.0}\n{'_id': ObjectId('5ed06cfc722f242f282df080'), 'Avg Total': 471.6, 'Avg HP': 93.8, 'Avg Attack': 84.2, 'Avg Defense': 70.9, 'Avg Sp Attack': 64.2, 'Avg Sp Defense': 77.9, 'Avg Speed': 80.6}\n{'_id': ObjectId('5ed06cfc722f242f282df081'), 'Avg Total': 435.0, 'Avg HP': 140.0, 'Avg Attack': 70.0, 'Avg Defense': 45.0, 'Avg Sp Attack': 85.0, 'Avg Sp Defense': 50.0, 'Avg Speed': 45.0}\n{'_id': ObjectId('5ed06cfc722f242f282df082'), 'Avg Total': 456.9, 'Avg HP': 76.1, 'Avg Attack': 92.8, 'Avg Defense': 64.5, 'Avg Sp Attack': 67.4, 'Avg Sp Defense': 63.1, 'Avg Speed': 93.0}\n{'_id': ObjectId('5ed06cfc722f242f282df083'), 'Avg Total': 475.0, 'Avg HP': 80.0, 'Avg Attack': 100.0, 'Avg Defense': 70.0, 'Avg Sp Attack': 60.0, 'Avg Sp Defense': 70.0, 'Avg Speed': 95.0}\n{'_id': ObjectId('5ed06cfc722f242f282df084'), 'Avg Total': 423.0, 'Avg HP': 85.0, 'Avg Attack': 56.0, 'Avg Defense': 77.0, 'Avg Sp Attack': 50.0, 'Avg Sp Defense': 77.0, 'Avg Speed': 78.0}\n{'_id': ObjectId('5ed06cfc722f242f282df085'), 'Avg Total': 527.5, 'Avg HP': 85.0, 'Avg Attack': 78.5, 'Avg Defense': 71.0, 'Avg Sp Attack': 109.0, 'Avg Sp Defense': 96.5, 'Avg Speed': 87.5}\n{'_id': ObjectId('5ed06cfc722f242f282df086'), 'Avg Total': 410.0, 'Avg HP': 79.0, 'Avg Attack': 85.0, 'Avg Defense': 60.0, 'Avg Sp Attack': 55.0, 'Avg Sp Defense': 60.0, 'Avg Speed': 71.0}\n{'_id': ObjectId('5ed06cfc722f242f282df087'), 'Avg Total': 472.8, 'Avg HP': 80.5, 'Avg Attack': 93.0, 'Avg Defense': 81.5, 'Avg Sp Attack': 74.7, 'Avg Sp Defense': 79.0, 'Avg Speed': 64.2}\n{'_id': ObjectId('5ed06cfc722f242f282df088'), 'Avg Total': 489.5, 'Avg HP': 86.5, 'Avg Attack': 91.5, 'Avg Defense': 88.5, 'Avg Sp Attack': 65.5, 'Avg Sp Defense': 68.0, 'Avg Speed': 89.5}\n{'_id': ObjectId('5ed06cfc722f242f282df089'), 'Avg Total': 494.0, 'Avg HP': 65.0, 'Avg Attack': 75.0, 'Avg Defense': 90.0, 'Avg Sp Attack': 97.0, 'Avg Sp Defense': 123.0, 'Avg Speed': 44.0}\n{'_id': ObjectId('5ed06cfc722f242f282df08a'), 'Avg Total': 490.0, 'Avg HP': 83.0, 'Avg Attack': 106.0, 'Avg Defense': 65.0, 'Avg Sp Attack': 86.0, 'Avg Sp Defense': 65.0, 'Avg Speed': 85.0}\n{'_id': ObjectId('5ed06cfc722f242f282df08b'), 'Avg Total': 495.0, 'Avg HP': 80.0, 'Avg Attack': 85.0, 'Avg Defense': 75.0, 'Avg Sp Attack': 67.5, 'Avg Sp Defense': 77.5, 'Avg Speed': 110.0}\n{'_id': ObjectId('5ed06cfc722f242f282df08c'), 'Avg Total': 505.0, 'Avg HP': 85.5, 'Avg Attack': 97.0, 'Avg Defense': 82.0, 'Avg Sp Attack': 80.0, 'Avg Sp Defense': 80.0, 'Avg Speed': 80.5}\n{'_id': ObjectId('5ed06cfc722f242f282df08d'), 'Avg Total': 505.8, 'Avg HP': 84.0, 'Avg Attack': 72.4, 'Avg Defense': 75.0, 'Avg Sp Attack': 105.4, 'Avg Sp Defense': 90.0, 'Avg Speed': 78.8}\n{'_id': ObjectId('5ed06cfc722f242f282df08e'), 'Avg Total': 489.0, 'Avg HP': 54.0, 'Avg Attack': 55.0, 'Avg Defense': 65.0, 'Avg Sp Attack': 112.5, 'Avg Sp Defense': 117.5, 'Avg Speed': 85.0}\n{'_id': ObjectId('5ed06cfc722f242f282df08f'), 'Avg Total': 518.0, 'Avg HP': 68.0, 'Avg Attack': 125.0, 'Avg Defense': 65.0, 'Avg Sp Attack': 65.0, 'Avg Sp Defense': 115.0, 'Avg Speed': 80.0}\n{'_id': ObjectId('5ed06cfc722f242f282df090'), 'Avg Total': 600.0, 'Avg HP': 100.0, 'Avg Attack': 100.0, 'Avg Defense': 100.0, 'Avg Sp Attack': 100.0, 'Avg Sp Defense': 100.0, 'Avg Speed': 100.0}\n{'_id': ObjectId('5ed06cfc722f242f282df091'), 'Avg Total': 516.2, 'Avg HP': 77.5, 'Avg Attack': 70.0, 'Avg Defense': 83.8, 'Avg Sp Attack': 91.2, 'Avg Sp Defense': 89.8, 'Avg Speed': 104.0}\n{'_id': ObjectId('5ed06cfc722f242f282df092'), 'Avg Total': 600.0, 'Avg HP': 80.0, 'Avg Attack': 110.0, 'Avg Defense': 60.0, 'Avg Sp Attack': 150.0, 'Avg Sp Defense': 130.0, 'Avg Speed': 70.0}\n{'_id': ObjectId('5ed06cfc722f242f282df093'), 'Avg Total': 600.0, 'Avg HP': 100.0, 'Avg Attack': 100.0, 'Avg Defense': 100.0, 'Avg Sp Attack': 100.0, 'Avg Sp Defense': 100.0, 'Avg Speed': 100.0}\n{'_id': ObjectId('5ed06cfc722f242f282df094'), 'Avg Total': 500.0, 'Avg HP': 83.0, 'Avg Attack': 125.0, 'Avg Defense': 126.2, 'Avg Sp Attack': 51.2, 'Avg Sp Defense': 73.8, 'Avg Speed': 40.8}\n{'_id': ObjectId('5ed06cfc722f242f282df095'), 'Avg Total': 495.0, 'Avg HP': 75.0, 'Avg Attack': 125.0, 'Avg Defense': 100.0, 'Avg Sp Attack': 70.0, 'Avg Sp Defense': 80.0, 'Avg Speed': 45.0}\n{'_id': ObjectId('5ed06cfc722f242f282df096'), 'Avg Total': 600.0, 'Avg HP': 100.0, 'Avg Attack': 134.0, 'Avg Defense': 110.0, 'Avg Sp Attack': 95.0, 'Avg Sp Defense': 100.0, 'Avg Speed': 61.0}\n{'_id': ObjectId('5ed06cfc722f242f282df097'), 'Avg Total': 521.0, 'Avg HP': 82.0, 'Avg Attack': 121.0, 'Avg Defense': 119.0, 'Avg Sp Attack': 69.0, 'Avg Sp Defense': 59.0, 'Avg Speed': 71.0}\n{'_id': ObjectId('5ed06cfc722f242f282df098'), 'Avg Total': 550.0, 'Avg HP': 50.0, 'Avg Attack': 75.0, 'Avg Defense': 150.0, 'Avg Sp Attack': 75.0, 'Avg Sp Defense': 150.0, 'Avg Speed': 50.0}\n{'_id': ObjectId('5ed06cfc722f242f282df099'), 'Avg Total': 580.0, 'Avg HP': 91.0, 'Avg Attack': 129.0, 'Avg Defense': 90.0, 'Avg Sp Attack': 72.0, 'Avg Sp Defense': 90.0, 'Avg Speed': 108.0}\n{'_id': ObjectId('5ed06cfc722f242f282df09a'), 'Avg Total': 541.0, 'Avg HP': 77.5, 'Avg Attack': 122.5, 'Avg Defense': 65.0, 'Avg Sp Attack': 86.0, 'Avg Sp Defense': 70.0, 'Avg Speed': 120.0}\n{'_id': ObjectId('5ed06cfc722f242f282df09b'), 'Avg Total': 495.0, 'Avg HP': 86.0, 'Avg Attack': 81.0, 'Avg Defense': 97.0, 'Avg Sp Attack': 81.0, 'Avg Sp Defense': 107.0, 'Avg Speed': 43.0}\n{'_id': ObjectId('5ed06cfc722f242f282df09c'), 'Avg Total': 495.0, 'Avg HP': 80.0, 'Avg Attack': 120.0, 'Avg Defense': 130.0, 'Avg Sp Attack': 55.0, 'Avg Sp Defense': 65.0, 'Avg Speed': 45.0}\n{'_id': ObjectId('5ed06cfc722f242f282df09d'), 'Avg Total': 521.0, 'Avg HP': 123.0, 'Avg Attack': 77.0, 'Avg Defense': 72.0, 'Avg Sp Attack': 99.0, 'Avg Sp Defense': 92.0, 'Avg Speed': 58.0}\n{'_id': ObjectId('5ed06cfc722f242f282df09e'), 'Avg Total': 460.0, 'Avg HP': 90.0, 'Avg Attack': 75.0, 'Avg Defense': 75.0, 'Avg Sp Attack': 75.0, 'Avg Sp Defense': 75.0, 'Avg Speed': 70.0}\n{'_id': ObjectId('5ed06cfc722f242f282df09f'), 'Avg Total': 510.0, 'Avg HP': 60.0, 'Avg Attack': 53.5, 'Avg Defense': 156.5, 'Avg Sp Attack': 61.0, 'Avg Sp Defense': 144.0, 'Avg Speed': 35.0}\n{'_id': ObjectId('5ed06cfc722f242f282df0a0'), 'Avg Total': 496.7, 'Avg HP': 67.3, 'Avg Attack': 93.3, 'Avg Defense': 115.0, 'Avg Sp Attack': 78.0, 'Avg Sp Defense': 75.3, 'Avg Speed': 67.7}\n{'_id': ObjectId('5ed06cfc722f242f282df0a1'), 'Avg Total': 513.3, 'Avg HP': 66.7, 'Avg Attack': 85.0, 'Avg Defense': 120.0, 'Avg Sp Attack': 71.7, 'Avg Sp Defense': 106.7, 'Avg Speed': 63.3}\n{'_id': ObjectId('5ed06cfc722f242f282df0a2'), 'Avg Total': 680.0, 'Avg HP': 100.0, 'Avg Attack': 120.0, 'Avg Defense': 120.0, 'Avg Sp Attack': 150.0, 'Avg Sp Defense': 100.0, 'Avg Speed': 90.0}\n{'_id': ObjectId('5ed06cfc722f242f282df0a3'), 'Avg Total': 425.0, 'Avg HP': 53.5, 'Avg Attack': 82.5, 'Avg Defense': 88.0, 'Avg Sp Attack': 67.5, 'Avg Sp Defense': 71.0, 'Avg Speed': 62.5}\n{'_id': ObjectId('5ed06cfc722f242f282df0a4'), 'Avg Total': 580.0, 'Avg HP': 91.0, 'Avg Attack': 90.0, 'Avg Defense': 129.0, 'Avg Sp Attack': 90.0, 'Avg Sp Defense': 72.0, 'Avg Speed': 108.0}\n{'_id': ObjectId('5ed06cfc722f242f282df0a5'), 'Avg Total': 465.0, 'Avg HP': 65.0, 'Avg Attack': 80.0, 'Avg Defense': 140.0, 'Avg Sp Attack': 40.0, 'Avg Sp Defense': 70.0, 'Avg Speed': 70.0}\n{'_id': ObjectId('5ed06cfc722f242f282df0a6'), 'Avg Total': 484.0, 'Avg HP': 59.5, 'Avg Attack': 80.0, 'Avg Defense': 150.0, 'Avg Sp Attack': 47.5, 'Avg Sp Defense': 99.5, 'Avg Speed': 47.5}\n{'_id': ObjectId('5ed06cfc722f242f282df0a7'), 'Avg Total': 510.0, 'Avg HP': 75.0, 'Avg Attack': 85.0, 'Avg Defense': 200.0, 'Avg Sp Attack': 55.0, 'Avg Sp Defense': 65.0, 'Avg Speed': 30.0}\n{'_id': ObjectId('5ed06cfc722f242f282df0a8'), 'Avg Total': 530.0, 'Avg HP': 76.8, 'Avg Attack': 99.8, 'Avg Defense': 111.5, 'Avg Sp Attack': 82.2, 'Avg Sp Defense': 96.5, 'Avg Speed': 63.2}\n{'_id': ObjectId('5ed06cfc722f242f282df0a9'), 'Avg Total': 530.0, 'Avg HP': 70.0, 'Avg Attack': 110.0, 'Avg Defense': 180.0, 'Avg Sp Attack': 60.0, 'Avg Sp Defense': 60.0, 'Avg Speed': 50.0}\n{'_id': ObjectId('5ed06cfc722f242f282df0aa'), 'Avg Total': 495.4, 'Avg HP': 85.6, 'Avg Attack': 84.7, 'Avg Defense': 80.8, 'Avg Sp Attack': 87.8, 'Avg Sp Defense': 80.8, 'Avg Speed': 75.7}\n{'_id': ObjectId('5ed06cfc722f242f282df0ab'), 'Avg Total': 486.0, 'Avg HP': 68.3, 'Avg Attack': 111.7, 'Avg Defense': 64.0, 'Avg Sp Attack': 96.0, 'Avg Sp Defense': 55.3, 'Avg Speed': 90.7}\n{'_id': ObjectId('5ed06cfc722f242f282df0ac'), 'Avg Total': 610.0, 'Avg HP': 82.5, 'Avg Attack': 107.5, 'Avg Defense': 97.5, 'Avg Sp Attack': 122.5, 'Avg Sp Defense': 107.5, 'Avg Speed': 92.5}\n{'_id': ObjectId('5ed06cfc722f242f282df0ad'), 'Avg Total': 460.0, 'Avg HP': 125.0, 'Avg Attack': 58.0, 'Avg Defense': 58.0, 'Avg Sp Attack': 76.0, 'Avg Sp Defense': 76.0, 'Avg Speed': 67.0}\n{'_id': ObjectId('5ed06cfc722f242f282df0ae'), 'Avg Total': 420.0, 'Avg HP': 100.0, 'Avg Attack': 50.0, 'Avg Defense': 80.0, 'Avg Sp Attack': 60.0, 'Avg Sp Defense': 80.0, 'Avg Speed': 50.0}\n{'_id': ObjectId('5ed06cfc722f242f282df0af'), 'Avg Total': 545.0, 'Avg HP': 90.5, 'Avg Attack': 83.5, 'Avg Defense': 92.5, 'Avg Sp Attack': 99.5, 'Avg Sp Defense': 90.0, 'Avg Speed': 89.0}\n{'_id': ObjectId('5ed06cfc722f242f282df0b0'), 'Avg Total': 484.5, 'Avg HP': 78.8, 'Avg Attack': 75.5, 'Avg Defense': 78.0, 'Avg Sp Attack': 80.5, 'Avg Sp Defense': 93.2, 'Avg Speed': 78.5}\n{'_id': ObjectId('5ed06cfc722f242f282df0b1'), 'Avg Total': 480.0, 'Avg HP': 100.0, 'Avg Attack': 60.0, 'Avg Defense': 70.0, 'Avg Sp Attack': 85.0, 'Avg Sp Defense': 105.0, 'Avg Speed': 60.0}\n{'_id': ObjectId('5ed06cfc722f242f282df0b2'), 'Avg Total': 480.0, 'Avg HP': 80.0, 'Avg Attack': 70.0, 'Avg Defense': 70.0, 'Avg Sp Attack': 90.0, 'Avg Sp Defense': 100.0, 'Avg Speed': 70.0}\n{'_id': ObjectId('5ed06cfc722f242f282df0b3'), 'Avg Total': 483.4, 'Avg HP': 104.2, 'Avg Attack': 90.2, 'Avg Defense': 78.2, 'Avg Sp Attack': 80.6, 'Avg Sp Defense': 76.6, 'Avg Speed': 53.6}\n{'_id': ObjectId('5ed06cfc722f242f282df0b4'), 'Avg Total': 511.7, 'Avg HP': 90.0, 'Avg Attack': 83.3, 'Avg Defense': 113.3, 'Avg Sp Attack': 80.0, 'Avg Sp Defense': 78.3, 'Avg Speed': 66.7}\n{'_id': ObjectId('5ed06cfc722f242f282df0b5'), 'Avg Total': 477.5, 'Avg HP': 72.5, 'Avg Attack': 82.5, 'Avg Defense': 75.0, 'Avg Sp Attack': 67.5, 'Avg Sp Defense': 87.5, 'Avg Speed': 92.5}\n{'_id': ObjectId('5ed06cfc722f242f282df0b6'), 'Avg Total': 500.0, 'Avg HP': 83.3, 'Avg Attack': 75.0, 'Avg Defense': 91.7, 'Avg Sp Attack': 100.0, 'Avg Sp Defense': 91.7, 'Avg Speed': 58.3}\n{'_id': ObjectId('5ed06cfc722f242f282df0b7'), 'Avg Total': 463.3, 'Avg HP': 79.7, 'Avg Attack': 84.3, 'Avg Defense': 119.3, 'Avg Sp Attack': 64.3, 'Avg Sp Defense': 75.0, 'Avg Speed': 40.7}\n{'_id': ObjectId('5ed06cfc722f242f282df0b8'), 'Avg Total': 530.0, 'Avg HP': 84.0, 'Avg Attack': 86.0, 'Avg Defense': 88.0, 'Avg Sp Attack': 111.0, 'Avg Sp Defense': 101.0, 'Avg Speed': 60.0}\n"
    }
   ],
   "source": [
    "type_col=db.type.find()\n",
    "for p in type_col:\n",
    "    print(p)"
   ]
  },
  {
   "cell_type": "code",
   "execution_count": 23,
   "metadata": {},
   "outputs": [],
   "source": [
    "collection3=db.tier"
   ]
  },
  {
   "cell_type": "code",
   "execution_count": 24,
   "metadata": {},
   "outputs": [
    {
     "output_type": "execute_result",
     "data": {
      "text/plain": "<pymongo.results.InsertManyResult at 0x23b8315b0c8>"
     },
     "metadata": {},
     "execution_count": 24
    }
   ],
   "source": [
    "# Dictionary to be inserted into MongoDB\n",
    "data3 = tier_df.to_dict(orient='records')  # Here's our added param..\n",
    "collection3.insert_many(data3)"
   ]
  },
  {
   "cell_type": "code",
   "execution_count": 25,
   "metadata": {
    "tags": [
     "outputPrepend"
    ]
   },
   "outputs": [
    {
     "output_type": "stream",
     "name": "stdout",
     "text": "{'_id': ObjectId('5ed06cfd722f242f282df0b9'), 'Avg Total': 533.5, 'Avg HP': 84.3, 'Avg Attack': 90.2, 'Avg Defense': 82.5, 'Avg Sp Attack': 89.3, 'Avg Sp Defense': 86.3, 'Avg Speed': 101.0, 'Most Common Type': 'Psychic/Fire', 'Most Common Gen': 5}\n{'_id': ObjectId('5ed06cfd722f242f282df0ba'), 'Avg Total': 510.8, 'Avg HP': 76.8, 'Avg Attack': 92.2, 'Avg Defense': 89.6, 'Avg Sp Attack': 88.7, 'Avg Sp Defense': 81.9, 'Avg Speed': 81.6, 'Most Common Type': 'Dragon/Ice', 'Most Common Gen': 6}\n{'_id': ObjectId('5ed06cfd722f242f282df0bb'), 'Avg Total': 530.0, 'Avg HP': 70.0, 'Avg Attack': 85.0, 'Avg Defense': 65.0, 'Avg Sp Attack': 105.0, 'Avg Sp Defense': 85.0, 'Avg Speed': 120.0, 'Most Common Type': 'Grass', 'Most Common Gen': 3}\n{'_id': ObjectId('5ed06cfd722f242f282df0bc'), 'Avg Total': 466.5, 'Avg HP': 90.4, 'Avg Attack': 89.1, 'Avg Defense': 83.0, 'Avg Sp Attack': 75.0, 'Avg Sp Defense': 70.8, 'Avg Speed': 58.2, 'Most Common Type': 'Normal', 'Most Common Gen': 5}\n{'_id': ObjectId('5ed06cfd722f242f282df0bd'), 'Avg Total': 484.4, 'Avg HP': 79.0, 'Avg Attack': 89.5, 'Avg Defense': 86.3, 'Avg Sp Attack': 76.6, 'Avg Sp Defense': 78.1, 'Avg Speed': 74.9, 'Most Common Type': 'Normal', 'Most Common Gen': 1}\n{'_id': ObjectId('5ed06cfd722f242f282df0be'), 'Avg Total': 533.5, 'Avg HP': 88.4, 'Avg Attack': 95.2, 'Avg Defense': 90.1, 'Avg Sp Attack': 89.3, 'Avg Sp Defense': 86.5, 'Avg Speed': 84.0, 'Most Common Type': 'Water/Psychic', 'Most Common Gen': 4}\n{'_id': ObjectId('5ed06cfd722f242f282df0bf'), 'Avg Total': 452.2, 'Avg HP': 74.2, 'Avg Attack': 80.7, 'Avg Defense': 76.1, 'Avg Sp Attack': 74.2, 'Avg Sp Defense': 76.8, 'Avg Speed': 70.2, 'Most Common Type': 'Normal', 'Most Common Gen': 3}\n{'_id': ObjectId('5ed06cfd722f242f282df0c0'), 'Avg Total': 497.6, 'Avg HP': 77.9, 'Avg Attack': 90.9, 'Avg Defense': 83.3, 'Avg Sp Attack': 79.9, 'Avg Sp Defense': 90.1, 'Avg Speed': 75.4, 'Most Common Type': 'Fighting', 'Most Common Gen': 5}\n{'_id': ObjectId('5ed06cfd722f242f282df0c1'), 'Avg Total': 524.6, 'Avg HP': 89.1, 'Avg Attack': 93.6, 'Avg Defense': 86.2, 'Avg Sp Attack': 87.6, 'Avg Sp Defense': 88.0, 'Avg Speed': 79.9, 'Most Common Type': 'Water', 'Most Common Gen': 5}\n{'_id': ObjectId('5ed06cfd722f242f282df0c2'), 'Avg Total': 642.0, 'Avg HP': 96.0, 'Avg Attack': 117.1, 'Avg Defense': 101.1, 'Avg Sp Attack': 124.0, 'Avg Sp Defense': 102.3, 'Avg Speed': 101.5, 'Most Common Type': 'Psychic', 'Most Common Gen': 4}\n"
    }
   ],
   "source": [
    "tier_col=db.tier.find()\n",
    "for p in tier_col:\n",
    "    print(p)"
   ]
  },
  {
   "cell_type": "code",
   "execution_count": null,
   "metadata": {},
   "outputs": [],
   "source": []
  },
  {
   "cell_type": "code",
   "execution_count": null,
   "metadata": {},
   "outputs": [],
   "source": []
  },
  {
   "cell_type": "code",
   "execution_count": null,
   "metadata": {},
   "outputs": [],
   "source": []
  },
  {
   "cell_type": "code",
   "execution_count": null,
   "metadata": {},
   "outputs": [],
   "source": []
  },
  {
   "cell_type": "code",
   "execution_count": null,
   "metadata": {},
   "outputs": [],
   "source": []
  },
  {
   "cell_type": "code",
   "execution_count": null,
   "metadata": {},
   "outputs": [],
   "source": []
  }
 ],
 "metadata": {
  "language_info": {
   "codemirror_mode": {
    "name": "ipython",
    "version": 3
   },
   "file_extension": ".py",
   "mimetype": "text/x-python",
   "name": "python",
   "nbconvert_exporter": "python",
   "pygments_lexer": "ipython3",
   "version": "3.7.4-final"
  },
  "orig_nbformat": 2,
  "kernelspec": {
   "name": "python3",
   "display_name": "Python 3"
  }
 },
 "nbformat": 4,
 "nbformat_minor": 2
}