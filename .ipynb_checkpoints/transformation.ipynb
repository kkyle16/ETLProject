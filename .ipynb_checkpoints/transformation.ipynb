{
 "cells": [
  {
   "cell_type": "code",
   "execution_count": 141,
   "metadata": {},
   "outputs": [],
   "source": [
    "import pandas as pd\n",
    "import numpy as np"
   ]
  },
  {
   "cell_type": "code",
   "execution_count": 142,
   "metadata": {},
   "outputs": [
    {
     "output_type": "execute_result",
     "data": {
      "text/plain": "   Id        Name Type 1  Type 2                Abilities        Category  \\\n0   1   Bulbasaur  Grass  Poison  [Overgrow, Chlorophyll]    Seed Pokémon   \n1   2     Ivysaur  Grass  Poison  [Overgrow, Chlorophyll]    Seed Pokémon   \n2   3    Venusaur  Grass  Poison  [Overgrow, Chlorophyll]    Seed Pokémon   \n3   4  Charmander   Fire    None     [Blaze, Solar Power]  Lizard Pokémon   \n4   5  Charmeleon   Fire    None     [Blaze, Solar Power]   Flame Pokémon   \n\n  Height (ft)  Height (m)  Weight (lbs)  Weight (kg)  ...  Egg Steps  \\\n0       2'04\"         0.7          15.2          6.9  ...       5120   \n1       3'03\"         1.0          28.7         13.0  ...       5120   \n2       6'07\"         2.0         220.5        100.0  ...       5120   \n3       2'00\"         0.6          18.7          8.5  ...       5120   \n4       3'07\"         1.1          41.9         19.0  ...       5120   \n\n     Exp Group Total  HP  Attack  Defense  Sp. Attack  Sp. Defense  Speed  \\\n0  Medium Slow   318  45      49       49          65           65     45   \n1  Medium Slow   405  60      62       63          80           80     60   \n2  Medium Slow   525  80      82       83         100          100     80   \n3  Medium Slow   309  39      52       43          60           50     65   \n4  Medium Slow   405  58      64       58          80           65     80   \n\n                                               Moves  \n0  {'Tackle': {'Type': 'Normal', 'Level': '—', 'P...  \n1  {'Tackle': {'Type': 'Normal', 'Level': '—', 'P...  \n2  {'Petal Dance': {'Type': 'Grass', 'Level': 'Ev...  \n3  {'Scratch': {'Type': 'Normal', 'Level': '—', '...  \n4  {'Scratch': {'Type': 'Normal', 'Level': '—', '...  \n\n[5 rows x 21 columns]",
      "text/html": "<div>\n<style scoped>\n    .dataframe tbody tr th:only-of-type {\n        vertical-align: middle;\n    }\n\n    .dataframe tbody tr th {\n        vertical-align: top;\n    }\n\n    .dataframe thead th {\n        text-align: right;\n    }\n</style>\n<table border=\"1\" class=\"dataframe\">\n  <thead>\n    <tr style=\"text-align: right;\">\n      <th></th>\n      <th>Id</th>\n      <th>Name</th>\n      <th>Type 1</th>\n      <th>Type 2</th>\n      <th>Abilities</th>\n      <th>Category</th>\n      <th>Height (ft)</th>\n      <th>Height (m)</th>\n      <th>Weight (lbs)</th>\n      <th>Weight (kg)</th>\n      <th>...</th>\n      <th>Egg Steps</th>\n      <th>Exp Group</th>\n      <th>Total</th>\n      <th>HP</th>\n      <th>Attack</th>\n      <th>Defense</th>\n      <th>Sp. Attack</th>\n      <th>Sp. Defense</th>\n      <th>Speed</th>\n      <th>Moves</th>\n    </tr>\n  </thead>\n  <tbody>\n    <tr>\n      <td>0</td>\n      <td>1</td>\n      <td>Bulbasaur</td>\n      <td>Grass</td>\n      <td>Poison</td>\n      <td>[Overgrow, Chlorophyll]</td>\n      <td>Seed Pokémon</td>\n      <td>2'04\"</td>\n      <td>0.7</td>\n      <td>15.2</td>\n      <td>6.9</td>\n      <td>...</td>\n      <td>5120</td>\n      <td>Medium Slow</td>\n      <td>318</td>\n      <td>45</td>\n      <td>49</td>\n      <td>49</td>\n      <td>65</td>\n      <td>65</td>\n      <td>45</td>\n      <td>{'Tackle': {'Type': 'Normal', 'Level': '—', 'P...</td>\n    </tr>\n    <tr>\n      <td>1</td>\n      <td>2</td>\n      <td>Ivysaur</td>\n      <td>Grass</td>\n      <td>Poison</td>\n      <td>[Overgrow, Chlorophyll]</td>\n      <td>Seed Pokémon</td>\n      <td>3'03\"</td>\n      <td>1.0</td>\n      <td>28.7</td>\n      <td>13.0</td>\n      <td>...</td>\n      <td>5120</td>\n      <td>Medium Slow</td>\n      <td>405</td>\n      <td>60</td>\n      <td>62</td>\n      <td>63</td>\n      <td>80</td>\n      <td>80</td>\n      <td>60</td>\n      <td>{'Tackle': {'Type': 'Normal', 'Level': '—', 'P...</td>\n    </tr>\n    <tr>\n      <td>2</td>\n      <td>3</td>\n      <td>Venusaur</td>\n      <td>Grass</td>\n      <td>Poison</td>\n      <td>[Overgrow, Chlorophyll]</td>\n      <td>Seed Pokémon</td>\n      <td>6'07\"</td>\n      <td>2.0</td>\n      <td>220.5</td>\n      <td>100.0</td>\n      <td>...</td>\n      <td>5120</td>\n      <td>Medium Slow</td>\n      <td>525</td>\n      <td>80</td>\n      <td>82</td>\n      <td>83</td>\n      <td>100</td>\n      <td>100</td>\n      <td>80</td>\n      <td>{'Petal Dance': {'Type': 'Grass', 'Level': 'Ev...</td>\n    </tr>\n    <tr>\n      <td>3</td>\n      <td>4</td>\n      <td>Charmander</td>\n      <td>Fire</td>\n      <td>None</td>\n      <td>[Blaze, Solar Power]</td>\n      <td>Lizard Pokémon</td>\n      <td>2'00\"</td>\n      <td>0.6</td>\n      <td>18.7</td>\n      <td>8.5</td>\n      <td>...</td>\n      <td>5120</td>\n      <td>Medium Slow</td>\n      <td>309</td>\n      <td>39</td>\n      <td>52</td>\n      <td>43</td>\n      <td>60</td>\n      <td>50</td>\n      <td>65</td>\n      <td>{'Scratch': {'Type': 'Normal', 'Level': '—', '...</td>\n    </tr>\n    <tr>\n      <td>4</td>\n      <td>5</td>\n      <td>Charmeleon</td>\n      <td>Fire</td>\n      <td>None</td>\n      <td>[Blaze, Solar Power]</td>\n      <td>Flame Pokémon</td>\n      <td>3'07\"</td>\n      <td>1.1</td>\n      <td>41.9</td>\n      <td>19.0</td>\n      <td>...</td>\n      <td>5120</td>\n      <td>Medium Slow</td>\n      <td>405</td>\n      <td>58</td>\n      <td>64</td>\n      <td>58</td>\n      <td>80</td>\n      <td>65</td>\n      <td>80</td>\n      <td>{'Scratch': {'Type': 'Normal', 'Level': '—', '...</td>\n    </tr>\n  </tbody>\n</table>\n<p>5 rows × 21 columns</p>\n</div>"
     },
     "metadata": {},
     "execution_count": 142
    }
   ],
   "source": [
    "df_json = pd.read_json(\"../pokemon_first.json\")\n",
    "df_json.head()"
   ]
  },
  {
   "cell_type": "code",
   "execution_count": 143,
   "metadata": {},
   "outputs": [
    {
     "output_type": "execute_result",
     "data": {
      "text/plain": "    X.             Name   Type.1    Type.2  Total   HP  Attack  Defense  \\\n0  384    Mega Rayquaza   Dragon    Flying    780  105     180      100   \n1   94      Mega Gengar    Ghost    Poison    600   60      65       80   \n2  115  Mega Kangaskhan   Normal       NaN    590  105     125      100   \n3  150           Mewtwo  Psychic       NaN    680  106     110       90   \n4  150    Mega Mewtwo X  Psychic  Fighting    780  106     190      100   \n\n   Sp..Atk  Sp..Def  Speed  Generation  Legendary   Mega  Tier  \n0      180      100    115           3       True   True    AG  \n1      170       95    130           1      False   True  Uber  \n2       60      100    100           1      False   True  Uber  \n3      154       90    130           1       True  False  Uber  \n4      154      100    130           1       True   True  Uber  ",
      "text/html": "<div>\n<style scoped>\n    .dataframe tbody tr th:only-of-type {\n        vertical-align: middle;\n    }\n\n    .dataframe tbody tr th {\n        vertical-align: top;\n    }\n\n    .dataframe thead th {\n        text-align: right;\n    }\n</style>\n<table border=\"1\" class=\"dataframe\">\n  <thead>\n    <tr style=\"text-align: right;\">\n      <th></th>\n      <th>X.</th>\n      <th>Name</th>\n      <th>Type.1</th>\n      <th>Type.2</th>\n      <th>Total</th>\n      <th>HP</th>\n      <th>Attack</th>\n      <th>Defense</th>\n      <th>Sp..Atk</th>\n      <th>Sp..Def</th>\n      <th>Speed</th>\n      <th>Generation</th>\n      <th>Legendary</th>\n      <th>Mega</th>\n      <th>Tier</th>\n    </tr>\n  </thead>\n  <tbody>\n    <tr>\n      <td>0</td>\n      <td>384</td>\n      <td>Mega Rayquaza</td>\n      <td>Dragon</td>\n      <td>Flying</td>\n      <td>780</td>\n      <td>105</td>\n      <td>180</td>\n      <td>100</td>\n      <td>180</td>\n      <td>100</td>\n      <td>115</td>\n      <td>3</td>\n      <td>True</td>\n      <td>True</td>\n      <td>AG</td>\n    </tr>\n    <tr>\n      <td>1</td>\n      <td>94</td>\n      <td>Mega Gengar</td>\n      <td>Ghost</td>\n      <td>Poison</td>\n      <td>600</td>\n      <td>60</td>\n      <td>65</td>\n      <td>80</td>\n      <td>170</td>\n      <td>95</td>\n      <td>130</td>\n      <td>1</td>\n      <td>False</td>\n      <td>True</td>\n      <td>Uber</td>\n    </tr>\n    <tr>\n      <td>2</td>\n      <td>115</td>\n      <td>Mega Kangaskhan</td>\n      <td>Normal</td>\n      <td>NaN</td>\n      <td>590</td>\n      <td>105</td>\n      <td>125</td>\n      <td>100</td>\n      <td>60</td>\n      <td>100</td>\n      <td>100</td>\n      <td>1</td>\n      <td>False</td>\n      <td>True</td>\n      <td>Uber</td>\n    </tr>\n    <tr>\n      <td>3</td>\n      <td>150</td>\n      <td>Mewtwo</td>\n      <td>Psychic</td>\n      <td>NaN</td>\n      <td>680</td>\n      <td>106</td>\n      <td>110</td>\n      <td>90</td>\n      <td>154</td>\n      <td>90</td>\n      <td>130</td>\n      <td>1</td>\n      <td>True</td>\n      <td>False</td>\n      <td>Uber</td>\n    </tr>\n    <tr>\n      <td>4</td>\n      <td>150</td>\n      <td>Mega Mewtwo X</td>\n      <td>Psychic</td>\n      <td>Fighting</td>\n      <td>780</td>\n      <td>106</td>\n      <td>190</td>\n      <td>100</td>\n      <td>154</td>\n      <td>100</td>\n      <td>130</td>\n      <td>1</td>\n      <td>True</td>\n      <td>True</td>\n      <td>Uber</td>\n    </tr>\n  </tbody>\n</table>\n</div>"
     },
     "metadata": {},
     "execution_count": 143
    }
   ],
   "source": [
    "df_csv = pd.read_csv(\"../pokemon_second.csv\")\n",
    "df_csv.head()"
   ]
  },
  {
   "cell_type": "code",
   "execution_count": 144,
   "metadata": {},
   "outputs": [
    {
     "output_type": "execute_result",
     "data": {
      "text/plain": "              Name  Generation  Legendary  Tier\n0    Mega Rayquaza           3       True    AG\n1      Mega Gengar           1      False  Uber\n2  Mega Kangaskhan           1      False  Uber\n3           Mewtwo           1       True  Uber\n4    Mega Mewtwo X           1       True  Uber",
      "text/html": "<div>\n<style scoped>\n    .dataframe tbody tr th:only-of-type {\n        vertical-align: middle;\n    }\n\n    .dataframe tbody tr th {\n        vertical-align: top;\n    }\n\n    .dataframe thead th {\n        text-align: right;\n    }\n</style>\n<table border=\"1\" class=\"dataframe\">\n  <thead>\n    <tr style=\"text-align: right;\">\n      <th></th>\n      <th>Name</th>\n      <th>Generation</th>\n      <th>Legendary</th>\n      <th>Tier</th>\n    </tr>\n  </thead>\n  <tbody>\n    <tr>\n      <td>0</td>\n      <td>Mega Rayquaza</td>\n      <td>3</td>\n      <td>True</td>\n      <td>AG</td>\n    </tr>\n    <tr>\n      <td>1</td>\n      <td>Mega Gengar</td>\n      <td>1</td>\n      <td>False</td>\n      <td>Uber</td>\n    </tr>\n    <tr>\n      <td>2</td>\n      <td>Mega Kangaskhan</td>\n      <td>1</td>\n      <td>False</td>\n      <td>Uber</td>\n    </tr>\n    <tr>\n      <td>3</td>\n      <td>Mewtwo</td>\n      <td>1</td>\n      <td>True</td>\n      <td>Uber</td>\n    </tr>\n    <tr>\n      <td>4</td>\n      <td>Mega Mewtwo X</td>\n      <td>1</td>\n      <td>True</td>\n      <td>Uber</td>\n    </tr>\n  </tbody>\n</table>\n</div>"
     },
     "metadata": {},
     "execution_count": 144
    }
   ],
   "source": [
    "df_csv = df_csv[[\"Name\", \"Generation\", \"Legendary\", \"Tier\"]]\n",
    "df_csv.head()"
   ]
  },
  {
   "cell_type": "code",
   "execution_count": 145,
   "metadata": {},
   "outputs": [
    {
     "output_type": "execute_result",
     "data": {
      "text/plain": "   Id        Name Type 1  Type 2                    Abilities  \\\n0   3    Venusaur  Grass  Poison      [Overgrow, Chlorophyll]   \n1   6   Charizard   Fire  Flying         [Blaze, Solar Power]   \n2   8   Wartortle  Water    None         [Torrent, Rain Dish]   \n3   9   Blastoise  Water    None         [Torrent, Rain Dish]   \n4  12  Butterfree    Bug  Flying  [Compoundeyes, Tinted Lens]   \n\n            Category Height (ft)  Height (m)  Weight (lbs)  Weight (kg)  ...  \\\n0       Seed Pokémon       6'07\"         2.0         220.5        100.0  ...   \n1      Flame Pokémon       5'07\"         1.7         199.5         90.5  ...   \n2     Turtle Pokémon       3'03\"         1.0          49.6         22.5  ...   \n3  Shellfish Pokémon       5'03\"         1.6         188.5         85.5  ...   \n4  Butterfly Pokémon       3'07\"         1.1          70.5         32.0  ...   \n\n   HP  Attack Defense  Sp. Attack  Sp. Defense  Speed  \\\n0  80      82      83         100          100     80   \n1  78      84      78         109           85    100   \n2  59      63      80          65           80     58   \n3  79      83     100          85          105     78   \n4  60      45      50          90           80     70   \n\n                                               Moves  Generation  Legendary  \\\n0  {'Petal Dance': {'Type': 'Grass', 'Level': 'Ev...           1      False   \n1  {'Wing Attack': {'Type': 'Flying', 'Level': 'E...           1      False   \n2  {'Tackle': {'Type': 'Normal', 'Level': '—', 'P...           1      False   \n3  {'Flash Cannon': {'Type': 'Steel', 'Level': '—...           1      False   \n4  {'Gust': {'Type': 'Flying', 'Level': 'Evolve',...           1      False   \n\n   Tier  \n0    RU  \n1    NU  \n2    PU  \n3    RU  \n4    PU  \n\n[5 rows x 24 columns]",
      "text/html": "<div>\n<style scoped>\n    .dataframe tbody tr th:only-of-type {\n        vertical-align: middle;\n    }\n\n    .dataframe tbody tr th {\n        vertical-align: top;\n    }\n\n    .dataframe thead th {\n        text-align: right;\n    }\n</style>\n<table border=\"1\" class=\"dataframe\">\n  <thead>\n    <tr style=\"text-align: right;\">\n      <th></th>\n      <th>Id</th>\n      <th>Name</th>\n      <th>Type 1</th>\n      <th>Type 2</th>\n      <th>Abilities</th>\n      <th>Category</th>\n      <th>Height (ft)</th>\n      <th>Height (m)</th>\n      <th>Weight (lbs)</th>\n      <th>Weight (kg)</th>\n      <th>...</th>\n      <th>HP</th>\n      <th>Attack</th>\n      <th>Defense</th>\n      <th>Sp. Attack</th>\n      <th>Sp. Defense</th>\n      <th>Speed</th>\n      <th>Moves</th>\n      <th>Generation</th>\n      <th>Legendary</th>\n      <th>Tier</th>\n    </tr>\n  </thead>\n  <tbody>\n    <tr>\n      <td>0</td>\n      <td>3</td>\n      <td>Venusaur</td>\n      <td>Grass</td>\n      <td>Poison</td>\n      <td>[Overgrow, Chlorophyll]</td>\n      <td>Seed Pokémon</td>\n      <td>6'07\"</td>\n      <td>2.0</td>\n      <td>220.5</td>\n      <td>100.0</td>\n      <td>...</td>\n      <td>80</td>\n      <td>82</td>\n      <td>83</td>\n      <td>100</td>\n      <td>100</td>\n      <td>80</td>\n      <td>{'Petal Dance': {'Type': 'Grass', 'Level': 'Ev...</td>\n      <td>1</td>\n      <td>False</td>\n      <td>RU</td>\n    </tr>\n    <tr>\n      <td>1</td>\n      <td>6</td>\n      <td>Charizard</td>\n      <td>Fire</td>\n      <td>Flying</td>\n      <td>[Blaze, Solar Power]</td>\n      <td>Flame Pokémon</td>\n      <td>5'07\"</td>\n      <td>1.7</td>\n      <td>199.5</td>\n      <td>90.5</td>\n      <td>...</td>\n      <td>78</td>\n      <td>84</td>\n      <td>78</td>\n      <td>109</td>\n      <td>85</td>\n      <td>100</td>\n      <td>{'Wing Attack': {'Type': 'Flying', 'Level': 'E...</td>\n      <td>1</td>\n      <td>False</td>\n      <td>NU</td>\n    </tr>\n    <tr>\n      <td>2</td>\n      <td>8</td>\n      <td>Wartortle</td>\n      <td>Water</td>\n      <td>None</td>\n      <td>[Torrent, Rain Dish]</td>\n      <td>Turtle Pokémon</td>\n      <td>3'03\"</td>\n      <td>1.0</td>\n      <td>49.6</td>\n      <td>22.5</td>\n      <td>...</td>\n      <td>59</td>\n      <td>63</td>\n      <td>80</td>\n      <td>65</td>\n      <td>80</td>\n      <td>58</td>\n      <td>{'Tackle': {'Type': 'Normal', 'Level': '—', 'P...</td>\n      <td>1</td>\n      <td>False</td>\n      <td>PU</td>\n    </tr>\n    <tr>\n      <td>3</td>\n      <td>9</td>\n      <td>Blastoise</td>\n      <td>Water</td>\n      <td>None</td>\n      <td>[Torrent, Rain Dish]</td>\n      <td>Shellfish Pokémon</td>\n      <td>5'03\"</td>\n      <td>1.6</td>\n      <td>188.5</td>\n      <td>85.5</td>\n      <td>...</td>\n      <td>79</td>\n      <td>83</td>\n      <td>100</td>\n      <td>85</td>\n      <td>105</td>\n      <td>78</td>\n      <td>{'Flash Cannon': {'Type': 'Steel', 'Level': '—...</td>\n      <td>1</td>\n      <td>False</td>\n      <td>RU</td>\n    </tr>\n    <tr>\n      <td>4</td>\n      <td>12</td>\n      <td>Butterfree</td>\n      <td>Bug</td>\n      <td>Flying</td>\n      <td>[Compoundeyes, Tinted Lens]</td>\n      <td>Butterfly Pokémon</td>\n      <td>3'07\"</td>\n      <td>1.1</td>\n      <td>70.5</td>\n      <td>32.0</td>\n      <td>...</td>\n      <td>60</td>\n      <td>45</td>\n      <td>50</td>\n      <td>90</td>\n      <td>80</td>\n      <td>70</td>\n      <td>{'Gust': {'Type': 'Flying', 'Level': 'Evolve',...</td>\n      <td>1</td>\n      <td>False</td>\n      <td>PU</td>\n    </tr>\n  </tbody>\n</table>\n<p>5 rows × 24 columns</p>\n</div>"
     },
     "metadata": {},
     "execution_count": 145
    }
   ],
   "source": [
    "pokemon_df = pd.merge(df_json, df_csv, on=\"Name\", how=\"inner\")\n",
    "pokemon_df.head()"
   ]
  },
  {
   "cell_type": "code",
   "execution_count": 146,
   "metadata": {},
   "outputs": [],
   "source": [
    "pokemon_df.drop(columns=[\"Category\", \"Height (ft)\", \"Height (m)\", \"Weight (lbs)\", \"Weight (kg)\", \"Capture Rate\", \"Egg Steps\", \"Exp Group\"], inplace=True)"
   ]
  },
  {
   "cell_type": "code",
   "execution_count": 147,
   "metadata": {},
   "outputs": [],
   "source": [
    "full_type = []\n",
    "for row in range(0, len(pokemon_df)):\n",
    "    if pokemon_df.iloc[row, 3] == \"None\":\n",
    "        full_type.append(pokemon_df.iloc[row, 2])\n",
    "    else:\n",
    "        full_type.append(pokemon_df.iloc[row, 2] + \"/\" + pokemon_df.iloc[row, 3])"
   ]
  },
  {
   "cell_type": "code",
   "execution_count": 148,
   "metadata": {},
   "outputs": [],
   "source": [
    "pokemon_df[\"Full Type\"] = full_type"
   ]
  },
  {
   "cell_type": "code",
   "execution_count": 149,
   "metadata": {},
   "outputs": [
    {
     "output_type": "execute_result",
     "data": {
      "text/plain": "              Avg Total  Avg HP  Avg Attack  Avg Defense  Avg Sp. Attack  \\\nFull Type                                                                  \nBug               447.8    70.4        80.0         68.2            66.0   \nBug/Electric      472.0    70.0        77.0         60.0            97.0   \nBug/Fighting      500.0    80.0       125.0         75.0            40.0   \nBug/Fire          550.0    85.0        60.0         65.0           135.0   \nBug/Flying        441.4    68.2        71.2         62.5            83.0   \n\n              Avg Sp. Defense  Avg Speed  \nFull Type                                 \nBug                      70.2       93.0  \nBug/Electric             60.0      108.0  \nBug/Fighting             95.0       85.0  \nBug/Fire                105.0      100.0  \nBug/Flying               71.0       85.5  ",
      "text/html": "<div>\n<style scoped>\n    .dataframe tbody tr th:only-of-type {\n        vertical-align: middle;\n    }\n\n    .dataframe tbody tr th {\n        vertical-align: top;\n    }\n\n    .dataframe thead th {\n        text-align: right;\n    }\n</style>\n<table border=\"1\" class=\"dataframe\">\n  <thead>\n    <tr style=\"text-align: right;\">\n      <th></th>\n      <th>Avg Total</th>\n      <th>Avg HP</th>\n      <th>Avg Attack</th>\n      <th>Avg Defense</th>\n      <th>Avg Sp. Attack</th>\n      <th>Avg Sp. Defense</th>\n      <th>Avg Speed</th>\n    </tr>\n    <tr>\n      <th>Full Type</th>\n      <th></th>\n      <th></th>\n      <th></th>\n      <th></th>\n      <th></th>\n      <th></th>\n      <th></th>\n    </tr>\n  </thead>\n  <tbody>\n    <tr>\n      <td>Bug</td>\n      <td>447.8</td>\n      <td>70.4</td>\n      <td>80.0</td>\n      <td>68.2</td>\n      <td>66.0</td>\n      <td>70.2</td>\n      <td>93.0</td>\n    </tr>\n    <tr>\n      <td>Bug/Electric</td>\n      <td>472.0</td>\n      <td>70.0</td>\n      <td>77.0</td>\n      <td>60.0</td>\n      <td>97.0</td>\n      <td>60.0</td>\n      <td>108.0</td>\n    </tr>\n    <tr>\n      <td>Bug/Fighting</td>\n      <td>500.0</td>\n      <td>80.0</td>\n      <td>125.0</td>\n      <td>75.0</td>\n      <td>40.0</td>\n      <td>95.0</td>\n      <td>85.0</td>\n    </tr>\n    <tr>\n      <td>Bug/Fire</td>\n      <td>550.0</td>\n      <td>85.0</td>\n      <td>60.0</td>\n      <td>65.0</td>\n      <td>135.0</td>\n      <td>105.0</td>\n      <td>100.0</td>\n    </tr>\n    <tr>\n      <td>Bug/Flying</td>\n      <td>441.4</td>\n      <td>68.2</td>\n      <td>71.2</td>\n      <td>62.5</td>\n      <td>83.0</td>\n      <td>71.0</td>\n      <td>85.5</td>\n    </tr>\n  </tbody>\n</table>\n</div>"
     },
     "metadata": {},
     "execution_count": 149
    }
   ],
   "source": [
    "temp_df = pokemon_df.groupby(\"Full Type\")\n",
    "\n",
    "avg_total = round(temp_df[\"Total\"].mean(), 1)\n",
    "avg_hp = round(temp_df[\"HP\"].mean(), 1)\n",
    "avg_atk = round(temp_df[\"Attack\"].mean(), 1)\n",
    "avg_def = round(temp_df[\"Defense\"].mean(), 1)\n",
    "avg_spa = round(temp_df[\"Sp. Attack\"].mean(), 1)\n",
    "avg_spd = round(temp_df[\"Sp. Defense\"].mean(), 1)\n",
    "avg_spe  = round(temp_df[\"Speed\"].mean(), 1)\n",
    "\n",
    "# ou_list = []\n",
    "# for tier in temp_df[\"Tier\"]:\n",
    "#     if tier == \"PU\":\n",
    "#         ou_list.append(tier)        \n",
    "# ou_count = len(ou_list)\n",
    "\n",
    "# ou_count = temp_df.loc[temp_df[\"Tier\"] == \"OU\"].count()\n",
    "# # ou_count = pokemon_df.groupby('Tier')['OU'].count()\n",
    "# ou_count = pokemon_df.groupby(['OU', 'Tier']).size().unstack(fill_value=0)\n",
    "\n",
    "type_df = pd.DataFrame({\n",
    "    \"Avg Total\" : avg_total,\n",
    "    \"Avg HP\" : avg_hp,\n",
    "    \"Avg Attack\" : avg_atk,\n",
    "    \"Avg Defense\" : avg_def,\n",
    "    \"Avg Sp. Attack\" : avg_spa,\n",
    "    \"Avg Sp. Defense\" : avg_spd,\n",
    "    \"Avg Speed\" : avg_spe\n",
    "})\n",
    "\n",
    "type_df.head()"
   ]
  },
  {
   "cell_type": "code",
   "execution_count": 150,
   "metadata": {},
   "outputs": [
    {
     "output_type": "execute_result",
     "data": {
      "text/plain": "      Avg Total  Avg HP  Avg Attack  Avg Defense  Avg Sp. Attack  \\\nTier                                                               \nBL        533.5    84.3        90.2         82.5            89.3   \nBL2       510.8    76.8        92.2         89.6            88.7   \nBL3       530.0    70.0        85.0         65.0           105.0   \nBL4       466.5    90.4        89.1         83.0            75.0   \nNU        484.4    79.0        89.5         86.3            76.6   \nOU        533.5    88.4        95.2         90.1            89.3   \nPU        452.2    74.2        80.7         76.1            74.2   \nRU        497.6    77.9        90.9         83.3            79.9   \nUU        524.6    89.1        93.6         86.2            87.6   \nUber      642.0    96.0       117.1        101.1           124.0   \n\n      Avg Sp. Defense  Avg Speed Most Common Type  Most Common Gen  \nTier                                                                \nBL               86.3      101.0     Psychic/Fire                5  \nBL2              81.9       81.6             Dark                6  \nBL3              85.0      120.0            Grass                3  \nBL4              70.8       58.2         Fighting                5  \nNU               78.1       74.9           Normal                1  \nOU               86.5       84.0  Electric/Flying                4  \nPU               76.8       70.2           Normal                3  \nRU               90.1       75.4           Normal                5  \nUU               88.0       79.9           Normal                5  \nUber            102.3      101.5          Psychic                4  ",
      "text/html": "<div>\n<style scoped>\n    .dataframe tbody tr th:only-of-type {\n        vertical-align: middle;\n    }\n\n    .dataframe tbody tr th {\n        vertical-align: top;\n    }\n\n    .dataframe thead th {\n        text-align: right;\n    }\n</style>\n<table border=\"1\" class=\"dataframe\">\n  <thead>\n    <tr style=\"text-align: right;\">\n      <th></th>\n      <th>Avg Total</th>\n      <th>Avg HP</th>\n      <th>Avg Attack</th>\n      <th>Avg Defense</th>\n      <th>Avg Sp. Attack</th>\n      <th>Avg Sp. Defense</th>\n      <th>Avg Speed</th>\n      <th>Most Common Type</th>\n      <th>Most Common Gen</th>\n    </tr>\n    <tr>\n      <th>Tier</th>\n      <th></th>\n      <th></th>\n      <th></th>\n      <th></th>\n      <th></th>\n      <th></th>\n      <th></th>\n      <th></th>\n      <th></th>\n    </tr>\n  </thead>\n  <tbody>\n    <tr>\n      <td>BL</td>\n      <td>533.5</td>\n      <td>84.3</td>\n      <td>90.2</td>\n      <td>82.5</td>\n      <td>89.3</td>\n      <td>86.3</td>\n      <td>101.0</td>\n      <td>Psychic/Fire</td>\n      <td>5</td>\n    </tr>\n    <tr>\n      <td>BL2</td>\n      <td>510.8</td>\n      <td>76.8</td>\n      <td>92.2</td>\n      <td>89.6</td>\n      <td>88.7</td>\n      <td>81.9</td>\n      <td>81.6</td>\n      <td>Dark</td>\n      <td>6</td>\n    </tr>\n    <tr>\n      <td>BL3</td>\n      <td>530.0</td>\n      <td>70.0</td>\n      <td>85.0</td>\n      <td>65.0</td>\n      <td>105.0</td>\n      <td>85.0</td>\n      <td>120.0</td>\n      <td>Grass</td>\n      <td>3</td>\n    </tr>\n    <tr>\n      <td>BL4</td>\n      <td>466.5</td>\n      <td>90.4</td>\n      <td>89.1</td>\n      <td>83.0</td>\n      <td>75.0</td>\n      <td>70.8</td>\n      <td>58.2</td>\n      <td>Fighting</td>\n      <td>5</td>\n    </tr>\n    <tr>\n      <td>NU</td>\n      <td>484.4</td>\n      <td>79.0</td>\n      <td>89.5</td>\n      <td>86.3</td>\n      <td>76.6</td>\n      <td>78.1</td>\n      <td>74.9</td>\n      <td>Normal</td>\n      <td>1</td>\n    </tr>\n    <tr>\n      <td>OU</td>\n      <td>533.5</td>\n      <td>88.4</td>\n      <td>95.2</td>\n      <td>90.1</td>\n      <td>89.3</td>\n      <td>86.5</td>\n      <td>84.0</td>\n      <td>Electric/Flying</td>\n      <td>4</td>\n    </tr>\n    <tr>\n      <td>PU</td>\n      <td>452.2</td>\n      <td>74.2</td>\n      <td>80.7</td>\n      <td>76.1</td>\n      <td>74.2</td>\n      <td>76.8</td>\n      <td>70.2</td>\n      <td>Normal</td>\n      <td>3</td>\n    </tr>\n    <tr>\n      <td>RU</td>\n      <td>497.6</td>\n      <td>77.9</td>\n      <td>90.9</td>\n      <td>83.3</td>\n      <td>79.9</td>\n      <td>90.1</td>\n      <td>75.4</td>\n      <td>Normal</td>\n      <td>5</td>\n    </tr>\n    <tr>\n      <td>UU</td>\n      <td>524.6</td>\n      <td>89.1</td>\n      <td>93.6</td>\n      <td>86.2</td>\n      <td>87.6</td>\n      <td>88.0</td>\n      <td>79.9</td>\n      <td>Normal</td>\n      <td>5</td>\n    </tr>\n    <tr>\n      <td>Uber</td>\n      <td>642.0</td>\n      <td>96.0</td>\n      <td>117.1</td>\n      <td>101.1</td>\n      <td>124.0</td>\n      <td>102.3</td>\n      <td>101.5</td>\n      <td>Psychic</td>\n      <td>4</td>\n    </tr>\n  </tbody>\n</table>\n</div>"
     },
     "metadata": {},
     "execution_count": 150
    }
   ],
   "source": [
    "temp_df = pokemon_df.groupby(\"Tier\")\n",
    "\n",
    "avg_total = round(temp_df[\"Total\"].mean(), 1)\n",
    "avg_hp = round(temp_df[\"HP\"].mean(), 1)\n",
    "avg_atk = round(temp_df[\"Attack\"].mean(), 1)\n",
    "avg_def = round(temp_df[\"Defense\"].mean(), 1)\n",
    "avg_spa = round(temp_df[\"Sp. Attack\"].mean(), 1)\n",
    "avg_spd = round(temp_df[\"Sp. Defense\"].mean(), 1)\n",
    "avg_spe  = round(temp_df[\"Speed\"].mean(), 1)\n",
    "\n",
    "mode_type = temp_df[\"Full Type\"].agg(lambda x:x.value_counts().index[0])\n",
    "mode_gen = temp_df[\"Generation\"].agg(lambda x:x.value_counts().index[0])\n",
    "\n",
    "tier_df = pd.DataFrame({\n",
    "    \"Avg Total\" : avg_total,\n",
    "    \"Avg HP\" : avg_hp,\n",
    "    \"Avg Attack\" : avg_atk,\n",
    "    \"Avg Defense\" : avg_def,\n",
    "    \"Avg Sp. Attack\" : avg_spa,\n",
    "    \"Avg Sp. Defense\" : avg_spd,\n",
    "    \"Avg Speed\" : avg_spe,\n",
    "    \"Most Common Type\" : mode_type,\n",
    "    \"Most Common Gen\" : mode_gen\n",
    "})\n",
    "\n",
    "tier_df"
   ]
  },
  {
   "cell_type": "code",
   "execution_count": null,
   "metadata": {},
   "outputs": [],
   "source": []
  }
 ],
 "metadata": {
  "language_info": {
   "codemirror_mode": {
    "name": "ipython",
    "version": 3
   },
   "file_extension": ".py",
   "mimetype": "text/x-python",
   "name": "python",
   "nbconvert_exporter": "python",
   "pygments_lexer": "ipython3",
   "version": "3.7.4-final"
  },
  "orig_nbformat": 2,
  "kernelspec": {
   "name": "python3",
   "display_name": "Python 3"
  }
 },
 "nbformat": 4,
 "nbformat_minor": 2
}